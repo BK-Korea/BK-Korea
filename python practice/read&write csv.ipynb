{
 "cells": [
  {
   "cell_type": "code",
   "id": "initial_id",
   "metadata": {
    "collapsed": true,
    "ExecuteTime": {
     "end_time": "2024-09-23T12:42:52.469364Z",
     "start_time": "2024-09-23T12:42:52.462942Z"
    }
   },
   "source": "import csv",
   "outputs": [],
   "execution_count": 1
  },
  {
   "metadata": {
    "ExecuteTime": {
     "end_time": "2024-09-23T12:45:57.941534Z",
     "start_time": "2024-09-23T12:45:57.932599Z"
    }
   },
   "cell_type": "code",
   "source": [
    "with open('data.csv', 'w', newline='') as file:\n",
    "    writer = csv.writer(file)\n",
    "    #데이터쓰기\n",
    "    writer.writerow(['name', 'age', 'grade'])\n",
    "    writer.writerow(['john', '25', 'A'])\n",
    "    writer.writerow(['emily', '22', 'B'])"
   ],
   "id": "73c1e39c5b7f22b",
   "outputs": [],
   "execution_count": 2
  },
  {
   "metadata": {
    "ExecuteTime": {
     "end_time": "2024-09-23T12:47:14.297278Z",
     "start_time": "2024-09-23T12:47:14.291878Z"
    }
   },
   "cell_type": "code",
   "source": [
    "with open('data.csv', 'r', newline='') as file:\n",
    "    reader = csv.reader(file)\n",
    "    for row in reader:\n",
    "        print(row)"
   ],
   "id": "732e194138604072",
   "outputs": [
    {
     "name": "stdout",
     "output_type": "stream",
     "text": [
      "['name', 'age', 'grade']\n",
      "['john', '25', 'A']\n",
      "['emily', '22', 'B']\n"
     ]
    }
   ],
   "execution_count": 4
  },
  {
   "metadata": {
    "ExecuteTime": {
     "end_time": "2024-09-23T13:03:17.112932Z",
     "start_time": "2024-09-23T13:03:17.098623Z"
    }
   },
   "cell_type": "code",
   "source": [
    "with open('sample_data.csv', 'w', newline='') as file:\n",
    "    writer = csv.writer(file)\n",
    "        # 데이터 쓰기\n",
    "    writer.writerow(['날짜', '제품', '가격', '판매량'])\n",
    "    writer.writerow(['2023-01-01', '사과', '1000', '50'])\n",
    "    writer.writerow(['2023-01-01', '바나나', '1500', '40'])\n",
    "    writer.writerow(['2023-01-02', '사과', '1000', '60'])\n",
    "    writer.writerow(['2023-01-02', '바나나', '1500', '45'])\n",
    "    "
   ],
   "id": "9c63f353835f8841",
   "outputs": [],
   "execution_count": 8
  },
  {
   "metadata": {
    "ExecuteTime": {
     "end_time": "2024-09-23T13:09:56.490723Z",
     "start_time": "2024-09-23T13:09:56.482682Z"
    }
   },
   "cell_type": "code",
   "source": [
    "with open('sample_data.csv', 'r', newline='') as file:\n",
    "    reader = csv.reader(file)\n",
    "    \n",
    "    next(reader) # 헤더(첫 줄) 건너뛰기\n",
    "    \n",
    "    total_sale = 0\n",
    "    for row in reader:\n",
    "        price = int(row[2]) # 세 번째 열에서 가격 정보 가져오기\n",
    "        quantity = int(row[3]) # 네 번째 열에서 수량 정보 가져오기\n",
    "        total_sale += price*quantity # 가격과 수량을 곱해서 총 판매액에 더하기\n",
    "        print(total_sale)"
   ],
   "id": "d449ec1d822f825",
   "outputs": [
    {
     "name": "stdout",
     "output_type": "stream",
     "text": [
      "50000\n",
      "110000\n",
      "170000\n",
      "237500\n"
     ]
    }
   ],
   "execution_count": 12
  },
  {
   "metadata": {
    "ExecuteTime": {
     "end_time": "2024-09-23T13:05:26.394846Z",
     "start_time": "2024-09-23T13:05:26.389078Z"
    }
   },
   "cell_type": "code",
   "source": "print(f\"총 매출 : {total_sale:,}원\")",
   "id": "594dc2f57a983843",
   "outputs": [
    {
     "name": "stdout",
     "output_type": "stream",
     "text": [
      "총 매출 : 237,500원\n"
     ]
    }
   ],
   "execution_count": 11
  },
  {
   "metadata": {
    "ExecuteTime": {
     "end_time": "2024-09-23T13:11:13.368465Z",
     "start_time": "2024-09-23T13:11:13.362491Z"
    }
   },
   "cell_type": "code",
   "source": [
    "with open('sample_data.csv', 'r', newline='') as file:\n",
    "    reader = csv.reader(file)\n",
    "    \n",
    "    next(reader) # 헤더(첫 줄) 건너뛰기\n",
    "    \n",
    "    total_sale = 0\n",
    "    for row in reader:\n",
    "        if row[1] =='사과':\n",
    "            price = int(row[2]) # 세 번째 열에서 가격 정보 가져오기\n",
    "            quantity = int(row[3]) # 네 번째 열에서 수량 정보 가져오기\n",
    "            total_sale += price*quantity # 가격과 수량을 곱해서 총 판매액에 더하기\n",
    "            print(total_sale)"
   ],
   "id": "c3d1109ba550c809",
   "outputs": [
    {
     "name": "stdout",
     "output_type": "stream",
     "text": [
      "50000\n",
      "110000\n"
     ]
    }
   ],
   "execution_count": 13
  },
  {
   "metadata": {
    "ExecuteTime": {
     "end_time": "2024-09-23T13:11:55.542477Z",
     "start_time": "2024-09-23T13:11:55.538090Z"
    }
   },
   "cell_type": "code",
   "source": "print(\"사과매출:\", total_sale)",
   "id": "b46470f46a3bd67c",
   "outputs": [
    {
     "name": "stdout",
     "output_type": "stream",
     "text": [
      "사과매출: 110000\n"
     ]
    }
   ],
   "execution_count": 15
  },
  {
   "metadata": {},
   "cell_type": "code",
   "outputs": [],
   "execution_count": null,
   "source": "",
   "id": "5b4d57a19e1b9e9"
  }
 ],
 "metadata": {
  "kernelspec": {
   "display_name": "Python 3",
   "language": "python",
   "name": "python3"
  },
  "language_info": {
   "codemirror_mode": {
    "name": "ipython",
    "version": 2
   },
   "file_extension": ".py",
   "mimetype": "text/x-python",
   "name": "python",
   "nbconvert_exporter": "python",
   "pygments_lexer": "ipython2",
   "version": "2.7.6"
  }
 },
 "nbformat": 4,
 "nbformat_minor": 5
}
