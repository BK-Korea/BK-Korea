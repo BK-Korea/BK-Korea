{
 "cells": [
  {
   "cell_type": "code",
   "id": "initial_id",
   "metadata": {
    "collapsed": true,
    "ExecuteTime": {
     "end_time": "2024-09-21T07:20:21.816600Z",
     "start_time": "2024-09-21T07:20:21.811024Z"
    }
   },
   "source": [
    "from ctypes import windll\n",
    "\n",
    "from zmq.backend import first\n",
    "\n",
    "\n",
    "def great(name) :\n",
    "    return f\"hello, {name}\""
   ],
   "outputs": [],
   "execution_count": 47
  },
  {
   "metadata": {
    "ExecuteTime": {
     "end_time": "2024-09-21T06:32:12.539114Z",
     "start_time": "2024-09-21T06:32:12.529812Z"
    }
   },
   "cell_type": "code",
   "source": "print(great(\"alice\"))",
   "id": "c93bc0b38d6e8f78",
   "outputs": [
    {
     "name": "stdout",
     "output_type": "stream",
     "text": [
      "hello, alice\n"
     ]
    }
   ],
   "execution_count": 4
  },
  {
   "metadata": {
    "ExecuteTime": {
     "end_time": "2024-09-21T06:33:19.330677Z",
     "start_time": "2024-09-21T06:33:19.325163Z"
    }
   },
   "cell_type": "code",
   "source": [
    "def greet2(name, message=\"good morning\"):\n",
    "    return f\"{message} {name}\""
   ],
   "id": "8ac4bdab834298ad",
   "outputs": [],
   "execution_count": 6
  },
  {
   "metadata": {
    "ExecuteTime": {
     "end_time": "2024-09-21T06:33:43.812329Z",
     "start_time": "2024-09-21T06:33:43.806253Z"
    }
   },
   "cell_type": "code",
   "source": "print(greet2(\"joh\"))",
   "id": "967347da0fb204f4",
   "outputs": [
    {
     "name": "stdout",
     "output_type": "stream",
     "text": [
      "good morning joh\n"
     ]
    }
   ],
   "execution_count": 8
  },
  {
   "metadata": {
    "ExecuteTime": {
     "end_time": "2024-09-21T06:34:05.823398Z",
     "start_time": "2024-09-21T06:34:05.818534Z"
    }
   },
   "cell_type": "code",
   "source": "print(greet2(\"hoh\", \"hihi\"))",
   "id": "1b356459b679f275",
   "outputs": [
    {
     "name": "stdout",
     "output_type": "stream",
     "text": [
      "hihi hoh\n"
     ]
    }
   ],
   "execution_count": 10
  },
  {
   "metadata": {
    "ExecuteTime": {
     "end_time": "2024-09-21T06:35:35.364838Z",
     "start_time": "2024-09-21T06:35:35.360534Z"
    }
   },
   "cell_type": "code",
   "source": [
    "def get_min_max(numbers):\n",
    "    return min(numbers), max(numbers)"
   ],
   "id": "84096aa799f0cba1",
   "outputs": [],
   "execution_count": 12
  },
  {
   "metadata": {
    "ExecuteTime": {
     "end_time": "2024-09-21T06:35:50.999499Z",
     "start_time": "2024-09-21T06:35:50.990495Z"
    }
   },
   "cell_type": "code",
   "source": "get_min_max([1, 2, 3, 4, 5, 6, 7, 8, 9, 10])",
   "id": "c7f3dfb2a4565d42",
   "outputs": [
    {
     "data": {
      "text/plain": [
       "(1, 10)"
      ]
     },
     "execution_count": 13,
     "metadata": {},
     "output_type": "execute_result"
    }
   ],
   "execution_count": 13
  },
  {
   "metadata": {
    "ExecuteTime": {
     "end_time": "2024-09-21T06:37:27.506629Z",
     "start_time": "2024-09-21T06:37:27.502518Z"
    }
   },
   "cell_type": "code",
   "source": [
    "def add(a,b) :\n",
    "    return a+b"
   ],
   "id": "a7d7b2eb17cf580",
   "outputs": [],
   "execution_count": 14
  },
  {
   "metadata": {
    "ExecuteTime": {
     "end_time": "2024-09-21T06:37:33.283968Z",
     "start_time": "2024-09-21T06:37:33.277913Z"
    }
   },
   "cell_type": "code",
   "source": "add(2,3)",
   "id": "c367507a8dbc4be2",
   "outputs": [
    {
     "data": {
      "text/plain": [
       "5"
      ]
     },
     "execution_count": 15,
     "metadata": {},
     "output_type": "execute_result"
    }
   ],
   "execution_count": 15
  },
  {
   "metadata": {
    "ExecuteTime": {
     "end_time": "2024-09-21T06:42:26.352185Z",
     "start_time": "2024-09-21T06:42:26.347334Z"
    }
   },
   "cell_type": "code",
   "source": [
    "def describe_pet(animal_type, pet_name) :\n",
    "    print(f\"I have a {animal_type} named {pet_name}\")"
   ],
   "id": "cf7e8f01e5bc3e84",
   "outputs": [],
   "execution_count": 23
  },
  {
   "metadata": {
    "ExecuteTime": {
     "end_time": "2024-09-21T06:42:26.794760Z",
     "start_time": "2024-09-21T06:42:26.789158Z"
    }
   },
   "cell_type": "code",
   "source": "describe_pet(\"dog\",\"wind\")",
   "id": "dedf88d742bd1741",
   "outputs": [
    {
     "name": "stdout",
     "output_type": "stream",
     "text": [
      "I have a dog named wind\n"
     ]
    }
   ],
   "execution_count": 24
  },
  {
   "metadata": {
    "ExecuteTime": {
     "end_time": "2024-09-21T06:42:45.184919Z",
     "start_time": "2024-09-21T06:42:45.180907Z"
    }
   },
   "cell_type": "code",
   "source": [
    "def describe_pet2(animal_type, pet_name) :\n",
    "    print(f\"I have a (animal_type) named (pet_name)\")"
   ],
   "id": "be59b9a9fd52fd34",
   "outputs": [],
   "execution_count": 25
  },
  {
   "metadata": {
    "ExecuteTime": {
     "end_time": "2024-09-21T06:42:51.831747Z",
     "start_time": "2024-09-21T06:42:51.826786Z"
    }
   },
   "cell_type": "code",
   "source": "describe_pet2(\"dog\",\"wind\")",
   "id": "853412554c9705da",
   "outputs": [
    {
     "name": "stdout",
     "output_type": "stream",
     "text": [
      "I have a (animal_type) named (pet_name)\n"
     ]
    }
   ],
   "execution_count": 26
  },
  {
   "metadata": {},
   "cell_type": "code",
   "source": [
    "def make_pizza(*topings):\n",
    "    print(\"Making a pizza with the following toppongs:\")\n",
    "    for topping in topings:\n",
    "        print(f\"\\t{topping}\")"
   ],
   "id": "bf04ab5f098f377c",
   "outputs": [],
   "execution_count": null
  },
  {
   "metadata": {
    "ExecuteTime": {
     "end_time": "2024-09-21T07:16:46.438284Z",
     "start_time": "2024-09-21T07:16:46.432657Z"
    }
   },
   "cell_type": "code",
   "source": [
    "\"\"\"\n",
    "topings의 의미\n",
    "함수에 *topings를 사용하면 함수는 여러 개의 인수를 받을 수 있습니다. 여기서 topings는 튜플 형태로 여러 개의 인수를 묶습니다.\n",
    "예를 들어, make_pizza(\"pepperoni\", \"cheese\", \"mushrooms\")를 호출하면 topings는 (\"pepperoni\", \"cheese\", \"mushrooms\")라는 튜플이 됩니다.\n",
    "2. for topping in topings:의 동작 방식\n",
    "이제 for 루프를 통해 이 topings 튜플을 하나씩 순회하는 과정을 설명하겠습니다.\n",
    "\n",
    "for 루프는 topings라는 튜플을 첫 번째 원소부터 마지막 원소까지 차례대로 하나씩 꺼내옵니다.\n",
    "그 과정에서 **각각의 원소(토핑)**가 변수 topping에 할당됩니다.\n",
    "예를 들어 topings가 (\"pepperoni\", \"cheese\", \"mushrooms\")이면, 첫 번째 루프에서는 topping에 \"pepperoni\"가 저장되고, 두 번째 루프에서는 \"cheese\", 세 번째 루프에서는 \"mushrooms\"가 저장됩니다.\n",
    "\"\"\""
   ],
   "id": "f6298faf5fb7f88b",
   "outputs": [
    {
     "data": {
      "text/plain": [
       "'\\ntopings의 의미\\n함수에 *topings를 사용하면 함수는 여러 개의 인수를 받을 수 있습니다. 여기서 topings는 튜플 형태로 여러 개의 인수를 묶습니다.\\n예를 들어, make_pizza(\"pepperoni\", \"cheese\", \"mushrooms\")를 호출하면 topings는 (\"pepperoni\", \"cheese\", \"mushrooms\")라는 튜플이 됩니다.\\n2. for topping in topings:의 동작 방식\\n이제 for 루프를 통해 이 topings 튜플을 하나씩 순회하는 과정을 설명하겠습니다.\\n\\nfor 루프는 topings라는 튜플을 첫 번째 원소부터 마지막 원소까지 차례대로 하나씩 꺼내옵니다.\\n그 과정에서 **각각의 원소(토핑)**가 변수 topping에 할당됩니다.\\n예를 들어 topings가 (\"pepperoni\", \"cheese\", \"mushrooms\")이면, 첫 번째 루프에서는 topping에 \"pepperoni\"가 저장되고, 두 번째 루프에서는 \"cheese\", 세 번째 루프에서는 \"mushrooms\"가 저장됩니다.\\n'"
      ]
     },
     "execution_count": 44,
     "metadata": {},
     "output_type": "execute_result"
    }
   ],
   "execution_count": 44
  },
  {
   "metadata": {
    "ExecuteTime": {
     "end_time": "2024-09-21T06:57:44.115560Z",
     "start_time": "2024-09-21T06:57:44.108605Z"
    }
   },
   "cell_type": "code",
   "outputs": [
    {
     "name": "stdout",
     "output_type": "stream",
     "text": [
      "Making a pizza with the following toppongs:\n",
      "\ta\n",
      "\tb\n",
      "\tc\n"
     ]
    }
   ],
   "execution_count": 29,
   "source": "make_pizza(\"a\",\"b\",\"c\")",
   "id": "46a4645525de484"
  },
  {
   "metadata": {
    "ExecuteTime": {
     "end_time": "2024-09-21T07:11:46.536146Z",
     "start_time": "2024-09-21T07:11:46.532368Z"
    }
   },
   "cell_type": "code",
   "source": [
    "def build_profile(first, last, **user_info) :\n",
    "    user_info['first_name'] = first\n",
    "    user_info['last_name'] = last\n",
    "    return user_info"
   ],
   "id": "a3b85b54c9070e4d",
   "outputs": [],
   "execution_count": 34
  },
  {
   "metadata": {
    "ExecuteTime": {
     "end_time": "2024-09-21T07:16:58.908388Z",
     "start_time": "2024-09-21T07:16:58.902230Z"
    }
   },
   "cell_type": "code",
   "source": [
    "\"\"\"\n",
    "딕셔너리에 항목 추가:\n",
    "user_info['first_name'] = first: 딕셔너리 user_info에 'first_name'이라는 키로 first 값을 추가합니다.\n",
    "user_info['last_name'] = last: 딕셔너리 user_info에 'last_name'이라는 키로 last 값을 추가합니다.\n",
    "\n",
    "차이 요약:\n",
    "*는 여러 개의 위치 인수를 받아 튜플로 변환합니다.\n",
    "**는 여러 개의 키워드 인수를 받아 딕셔너리로 변환합니다.\n",
    "\"\"\""
   ],
   "id": "87f0041c6282b766",
   "outputs": [
    {
     "data": {
      "text/plain": [
       "\"\\n딕셔너리에 항목 추가:\\nuser_info['first_name'] = first: 딕셔너리 user_info에 'first_name'이라는 키로 first 값을 추가합니다.\\nuser_info['last_name'] = last: 딕셔너리 user_info에 'last_name'이라는 키로 last 값을 추가합니다.\\n\""
      ]
     },
     "execution_count": 46,
     "metadata": {},
     "output_type": "execute_result"
    }
   ],
   "execution_count": 46
  },
  {
   "metadata": {
    "ExecuteTime": {
     "end_time": "2024-09-21T07:23:42.743497Z",
     "start_time": "2024-09-21T07:23:42.737870Z"
    }
   },
   "cell_type": "code",
   "source": "user_profile = build_profile('alvert', 'einstein', location='print', field='pysics')",
   "id": "eb8d56f6678e6d98",
   "outputs": [],
   "execution_count": 50
  },
  {
   "metadata": {
    "ExecuteTime": {
     "end_time": "2024-09-21T07:23:53.248287Z",
     "start_time": "2024-09-21T07:23:53.242052Z"
    }
   },
   "cell_type": "code",
   "source": "[print(user_profile)]",
   "id": "441162f626ec04",
   "outputs": [
    {
     "name": "stdout",
     "output_type": "stream",
     "text": [
      "{'location': 'print', 'field': 'pysics', 'first_name': 'alvert', 'last_name': 'einstein'}\n"
     ]
    },
    {
     "data": {
      "text/plain": [
       "[None]"
      ]
     },
     "execution_count": 51,
     "metadata": {},
     "output_type": "execute_result"
    }
   ],
   "execution_count": 51
  },
  {
   "metadata": {
    "ExecuteTime": {
     "end_time": "2024-09-21T07:27:10.328494Z",
     "start_time": "2024-09-21T07:27:10.322422Z"
    }
   },
   "cell_type": "code",
   "source": [
    "def modify(lst) :\n",
    "    lst.append(4)\n",
    "    print(\"lst inside function:\", lst)\n",
    "    \n",
    "lst =[1,2,3,5]\n",
    "modify(lst)\n",
    "print(\"lst outside function:\", lst)"
   ],
   "id": "1154f0741774e3e0",
   "outputs": [
    {
     "name": "stdout",
     "output_type": "stream",
     "text": [
      "lst inside function: [1, 2, 3, 5, 4]\n",
      "lst outside function: [1, 2, 3, 5, 4]\n"
     ]
    }
   ],
   "execution_count": 55
  },
  {
   "metadata": {
    "ExecuteTime": {
     "end_time": "2024-09-21T07:27:23.535456Z",
     "start_time": "2024-09-21T07:27:23.531854Z"
    }
   },
   "cell_type": "code",
   "source": "#append는 소괄호 사용",
   "id": "72d642074ab2f1f1",
   "outputs": [],
   "execution_count": 56
  },
  {
   "metadata": {
    "ExecuteTime": {
     "end_time": "2024-09-21T07:43:01.050849Z",
     "start_time": "2024-09-21T07:43:01.046883Z"
    }
   },
   "cell_type": "code",
   "source": [
    "def modify(x):\n",
    "    x = 10\n",
    "    print('x inside function', x)\n"
   ],
   "id": "d37ab5ed81a6d59c",
   "outputs": [],
   "execution_count": 59
  },
  {
   "metadata": {
    "ExecuteTime": {
     "end_time": "2024-09-21T07:43:03.588505Z",
     "start_time": "2024-09-21T07:43:03.581446Z"
    }
   },
   "cell_type": "code",
   "source": [
    "x = 5\n",
    "modify(x)\n",
    "print('x outside function', x)"
   ],
   "id": "5a93af7fbc2565c1",
   "outputs": [
    {
     "name": "stdout",
     "output_type": "stream",
     "text": [
      "x inside function 10\n",
      "x outside function 5\n"
     ]
    }
   ],
   "execution_count": 60
  },
  {
   "metadata": {
    "ExecuteTime": {
     "end_time": "2024-09-21T07:31:41.485405Z",
     "start_time": "2024-09-21T07:31:41.481078Z"
    }
   },
   "cell_type": "code",
   "source": [
    "def function1():\n",
    "    pass"
   ],
   "id": "397a378e34cb19ad",
   "outputs": [],
   "execution_count": 58
  },
  {
   "metadata": {},
   "cell_type": "code",
   "outputs": [],
   "execution_count": null,
   "source": "",
   "id": "dbb04eb24a87a26b"
  }
 ],
 "metadata": {
  "kernelspec": {
   "display_name": "Python 3",
   "language": "python",
   "name": "python3"
  },
  "language_info": {
   "codemirror_mode": {
    "name": "ipython",
    "version": 2
   },
   "file_extension": ".py",
   "mimetype": "text/x-python",
   "name": "python",
   "nbconvert_exporter": "python",
   "pygments_lexer": "ipython2",
   "version": "2.7.6"
  }
 },
 "nbformat": 4,
 "nbformat_minor": 5
}
