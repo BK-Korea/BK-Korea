{
 "cells": [
  {
   "cell_type": "code",
   "id": "initial_id",
   "metadata": {
    "collapsed": true,
    "ExecuteTime": {
     "end_time": "2024-09-22T07:59:28.997191Z",
     "start_time": "2024-09-22T07:59:28.991634Z"
    }
   },
   "source": [
    "number = 10\n",
    "if number > 0:\n",
    "    print(\"number는 0보다 크다\")\n",
    "elif number < 0:\n",
    "    print(\"number는 0보다 작다\")\n",
    "else:\n",
    "    print(\"number는 0보다 크거나 작지 않다\")\n",
    "    \n",
    "print(\"이 문장은 항상 출력됩니다.\")"
   ],
   "outputs": [
    {
     "name": "stdout",
     "output_type": "stream",
     "text": [
      "number는 0보다 크다\n",
      "이 문장은 항상 출력됩니다.\n"
     ]
    }
   ],
   "execution_count": 6
  },
  {
   "metadata": {
    "ExecuteTime": {
     "end_time": "2024-09-22T08:01:12.324592Z",
     "start_time": "2024-09-22T08:01:12.318107Z"
    }
   },
   "cell_type": "code",
   "source": [
    "count = 0\n",
    "while count < 5:\n",
    "    print(\"Inside loop\")\n",
    "    count = count + 1 # count += 1\n",
    "print(\"Outsid loop\")\n",
    "    "
   ],
   "id": "bc47c425b9d4f6e5",
   "outputs": [
    {
     "name": "stdout",
     "output_type": "stream",
     "text": [
      "Inside loop\n",
      "Inside loop\n",
      "Inside loop\n",
      "Inside loop\n",
      "Inside loop\n",
      "Outsid loop\n"
     ]
    }
   ],
   "execution_count": 9
  },
  {
   "metadata": {
    "ExecuteTime": {
     "end_time": "2024-09-22T08:02:43.546275Z",
     "start_time": "2024-09-22T08:02:43.540784Z"
    }
   },
   "cell_type": "code",
   "source": [
    "fruits = (\"apple\", \"banana\", \"cherry\")\n",
    "for fruit in fruits:\n",
    "    print(fruit)"
   ],
   "id": "b77053c20fd76e3d",
   "outputs": [
    {
     "name": "stdout",
     "output_type": "stream",
     "text": [
      "apple\n",
      "banana\n",
      "cherry\n"
     ]
    }
   ],
   "execution_count": 11
  },
  {
   "metadata": {
    "ExecuteTime": {
     "end_time": "2024-09-22T08:03:18.098250Z",
     "start_time": "2024-09-22T08:03:18.094006Z"
    }
   },
   "cell_type": "code",
   "source": [
    "for i in range(0,6):\n",
    "    print(i)"
   ],
   "id": "6c3671da7b592cd5",
   "outputs": [
    {
     "name": "stdout",
     "output_type": "stream",
     "text": [
      "0\n",
      "1\n",
      "2\n",
      "3\n",
      "4\n",
      "5\n"
     ]
    }
   ],
   "execution_count": 14
  },
  {
   "metadata": {
    "ExecuteTime": {
     "end_time": "2024-09-22T08:18:53.282803Z",
     "start_time": "2024-09-22T08:18:53.278136Z"
    }
   },
   "cell_type": "code",
   "source": [
    "students_scores = { \n",
    "    \"john\" : 85,\n",
    "    \"emma\" : 94,\n",
    "    \"david\" : 82,\n",
    "}\n",
    "\n",
    "for name, score in students_scores.items():\n",
    "    print(f\"{name}: {score}\")"
   ],
   "id": "23ad38e8dcb1641",
   "outputs": [
    {
     "name": "stdout",
     "output_type": "stream",
     "text": [
      "john: 85\n",
      "emma: 94\n",
      "david: 82\n"
     ]
    }
   ],
   "execution_count": 38
  },
  {
   "metadata": {},
   "cell_type": "code",
   "source": [
    "students_scores = { \n",
    "    \"john\" : 85,\n",
    "    \"emma\" : 94,\n",
    "    \"david\" : 82,\n",
    "}\n",
    "\n",
    "for name, score in students_scores.items():\n",
    "    print(name, score)"
   ],
   "id": "9a5c7a9229e2cf9e",
   "outputs": [],
   "execution_count": null
  },
  {
   "metadata": {
    "ExecuteTime": {
     "end_time": "2024-09-22T08:19:01.197948Z",
     "start_time": "2024-09-22T08:19:01.193162Z"
    }
   },
   "cell_type": "code",
   "outputs": [
    {
     "name": "stdout",
     "output_type": "stream",
     "text": [
      "john 85\n",
      "emma 94\n",
      "david 82\n"
     ]
    }
   ],
   "execution_count": 39,
   "source": [
    "\"\"\"\n",
    "students_scores**는 **딕셔너리(dictionary)**입니다. 딕셔너리는 **키(key)**와 값(value) 쌍으로 데이터를 저장하는 자료 구조입니다.\n",
    "\n",
    "items() 메서드는 딕셔너리의 키-값 쌍을 반환합니다. 즉, 딕셔너리에서 키와 값을 동시에 얻고 싶을 때 items()를 사용합니다.\n",
    "\n",
    "여기서 students_scores.items()는 딕셔너리의 각 항목을 (key, value) 쌍으로 반환합니다.\n",
    "즉, \"john\"과 85, \"emma\"와 94 같은 키-값 쌍을 가져옵니다.\n",
    "\"\"\""
   ],
   "id": "725686b841364d39"
  },
  {
   "metadata": {
    "ExecuteTime": {
     "end_time": "2024-09-22T08:24:27.332790Z",
     "start_time": "2024-09-22T08:24:27.327674Z"
    }
   },
   "cell_type": "code",
   "source": [
    "for b in students_scores.keys():\n",
    "    print(f\"{b}\")"
   ],
   "id": "1b92639f251e9382",
   "outputs": [
    {
     "name": "stdout",
     "output_type": "stream",
     "text": [
      "john\n",
      "emma\n",
      "david\n"
     ]
    }
   ],
   "execution_count": 50
  },
  {
   "metadata": {
    "ExecuteTime": {
     "end_time": "2024-09-22T08:24:16.769314Z",
     "start_time": "2024-09-22T08:24:16.764572Z"
    }
   },
   "cell_type": "code",
   "source": [
    "for a in students_scores.values():\n",
    "    print(f\"{a}\")"
   ],
   "id": "e989e82dc2335311",
   "outputs": [
    {
     "name": "stdout",
     "output_type": "stream",
     "text": [
      "85\n",
      "94\n",
      "82\n"
     ]
    }
   ],
   "execution_count": 49
  },
  {
   "metadata": {
    "ExecuteTime": {
     "end_time": "2024-09-22T08:06:30.859191Z",
     "start_time": "2024-09-22T08:06:30.854479Z"
    }
   },
   "cell_type": "code",
   "outputs": [
    {
     "name": "stdout",
     "output_type": "stream",
     "text": [
      "john\n",
      "emma\n",
      "david\n"
     ]
    }
   ],
   "execution_count": 21,
   "source": [
    "\"\"\"\n",
    "print(\"Hello, World!\") = 그냥 텍스트를 출력하므로, f-string이 필요 없습니다.\n",
    "\n",
    "name = \"John\"\n",
    "age = 25\n",
    "print(f\"My name is {name} and I am {age} years old.\")\n",
    "\n",
    "여기서는 f-string을 사용해서 **name**과 age 변수의 값을 문자열 안에 동적으로 삽입하고 있습니다. 변수 값을 출력할 때는 f-string이 훨씬 깔끔하고 직관적입니다.\n",
    "\"\"\""
   ],
   "id": "a1ae1f9ef55ab5e8"
  },
  {
   "metadata": {
    "ExecuteTime": {
     "end_time": "2024-09-22T08:07:23.917993Z",
     "start_time": "2024-09-22T08:07:23.912230Z"
    }
   },
   "cell_type": "code",
   "source": [
    "for i in range(10):\n",
    "    print(i)\n",
    "    if i == 5:\n",
    "        break"
   ],
   "id": "50849fe117bc8728",
   "outputs": [
    {
     "name": "stdout",
     "output_type": "stream",
     "text": [
      "0\n",
      "1\n",
      "2\n",
      "3\n",
      "4\n",
      "5\n"
     ]
    }
   ],
   "execution_count": 24
  },
  {
   "metadata": {
    "ExecuteTime": {
     "end_time": "2024-09-22T08:08:02.488328Z",
     "start_time": "2024-09-22T08:08:02.483942Z"
    }
   },
   "cell_type": "code",
   "source": [
    "for i in range(10):\n",
    "    if i % 2 == 0:\n",
    "        continue\n",
    "    print(i)"
   ],
   "id": "91635fca3f06c35b",
   "outputs": [
    {
     "name": "stdout",
     "output_type": "stream",
     "text": [
      "1\n",
      "3\n",
      "5\n",
      "7\n",
      "9\n"
     ]
    }
   ],
   "execution_count": 25
  },
  {
   "metadata": {
    "ExecuteTime": {
     "end_time": "2024-09-22T08:09:48.133496Z",
     "start_time": "2024-09-22T08:09:48.129242Z"
    }
   },
   "cell_type": "code",
   "source": [
    "name = \"John\"\n",
    "age = 25\n",
    "print(\"My name is\", name, \"and I am\", age, \"years old.\")"
   ],
   "id": "bf591d8432bdbf99",
   "outputs": [
    {
     "name": "stdout",
     "output_type": "stream",
     "text": [
      "My name is John and I am 25 years old.\n"
     ]
    }
   ],
   "execution_count": 27
  },
  {
   "metadata": {
    "ExecuteTime": {
     "end_time": "2024-09-22T08:12:09.541466Z",
     "start_time": "2024-09-22T08:12:09.533217Z"
    }
   },
   "cell_type": "code",
   "source": [
    "\"\"\"\n",
    "f-string을 사용하지 않고도 print()에서 **콤마(,)**로 여러 값을 연결하여 출력할 수 있습니다. 이때 변수나 문자열 사이에 공백이 자동으로 추가됩니다.\n",
    "\"\"\""
   ],
   "id": "bb47968297aa9ac6",
   "outputs": [
    {
     "data": {
      "text/plain": [
       "'\\nf-string을 사용하지 않고도 print()에서 **콤마(,)**로 여러 값을 연결하여 출력할 수 있습니다. 이때 변수나 문자열 사이에 공백이 자동으로 추가됩니다.\\n'"
      ]
     },
     "execution_count": 28,
     "metadata": {},
     "output_type": "execute_result"
    }
   ],
   "execution_count": 28
  },
  {
   "metadata": {
    "ExecuteTime": {
     "end_time": "2024-09-22T08:12:45.911040Z",
     "start_time": "2024-09-22T08:12:45.906425Z"
    }
   },
   "cell_type": "code",
   "source": [
    "for i in range(5):\n",
    "    print(i)\n",
    "    if i ==3:\n",
    "        break\n",
    "else:\n",
    "    print(\"반복문이 종료되었습니다\")"
   ],
   "id": "658c358a90dbb3e",
   "outputs": [
    {
     "name": "stdout",
     "output_type": "stream",
     "text": [
      "0\n",
      "1\n",
      "2\n",
      "3\n"
     ]
    }
   ],
   "execution_count": 30
  },
  {
   "metadata": {
    "ExecuteTime": {
     "end_time": "2024-09-22T08:32:17.583304Z",
     "start_time": "2024-09-22T08:32:17.579103Z"
    }
   },
   "cell_type": "code",
   "source": [
    "add = lambda x, y : x*y\n",
    "print(add(3,5))"
   ],
   "id": "8e99d0fcd4117a62",
   "outputs": [
    {
     "name": "stdout",
     "output_type": "stream",
     "text": [
      "15\n"
     ]
    }
   ],
   "execution_count": 59
  },
  {
   "metadata": {
    "ExecuteTime": {
     "end_time": "2024-09-22T08:16:48.574504Z",
     "start_time": "2024-09-22T08:16:48.568532Z"
    }
   },
   "cell_type": "code",
   "source": [
    "fruits = [\"apple\", \"banana\", \"cherry\"]\n",
    "\n",
    "for index, fruit in enumerate(fruits):\n",
    "    print(index, fruit)"
   ],
   "id": "5126b342b04e62a3",
   "outputs": [
    {
     "name": "stdout",
     "output_type": "stream",
     "text": [
      "0 apple\n",
      "1 banana\n",
      "2 cherry\n"
     ]
    }
   ],
   "execution_count": 33
  },
  {
   "metadata": {
    "ExecuteTime": {
     "end_time": "2024-09-22T08:18:24.899455Z",
     "start_time": "2024-09-22T08:18:24.895109Z"
    }
   },
   "cell_type": "code",
   "source": [
    "students_scores = { \n",
    "    \"john\" : 85,\n",
    "    \"emma\" : 94,\n",
    "    \"david\" : 82,\n",
    "}\n",
    "\n",
    "for name, score in students_scores.items():\n",
    "    print(name, score)"
   ],
   "id": "defb8c6eb51d3299",
   "outputs": [
    {
     "name": "stdout",
     "output_type": "stream",
     "text": [
      "john 85\n",
      "emma 94\n",
      "david 82\n"
     ]
    }
   ],
   "execution_count": 37
  },
  {
   "metadata": {
    "ExecuteTime": {
     "end_time": "2024-09-22T08:26:47.882022Z",
     "start_time": "2024-09-22T08:26:47.877305Z"
    }
   },
   "cell_type": "code",
   "source": [
    "fruits = ['apple', 'banana', 'cherry']\n",
    "prices = [1,2,0.75]\n",
    "\n",
    "for fru,pr in zip(fruits,prices): # 지퍼라고 생각하면 됨\n",
    "    print(fru,pr)"
   ],
   "id": "474eb3aec065193b",
   "outputs": [
    {
     "name": "stdout",
     "output_type": "stream",
     "text": [
      "apple 1\n",
      "banana 2\n",
      "cherry 0.75\n"
     ]
    }
   ],
   "execution_count": 52
  },
  {
   "metadata": {
    "ExecuteTime": {
     "end_time": "2024-09-22T08:29:29.887443Z",
     "start_time": "2024-09-22T08:29:29.882662Z"
    }
   },
   "cell_type": "code",
   "source": [
    "numbers = [1,2,3,4,5]\n",
    "\n",
    "squared = map(lambda x: x**2, numbers) # 지정된 함수를 반복 가능한 모든 객체 요소에 적용\n",
    "print(list(squared))"
   ],
   "id": "5437cb0845daff3f",
   "outputs": [
    {
     "name": "stdout",
     "output_type": "stream",
     "text": [
      "[1, 4, 9, 16, 25]\n"
     ]
    }
   ],
   "execution_count": 56
  },
  {
   "metadata": {
    "ExecuteTime": {
     "end_time": "2024-09-22T08:30:51.019935Z",
     "start_time": "2024-09-22T08:30:51.015413Z"
    }
   },
   "cell_type": "code",
   "source": [
    "numbers = [1,2,3,4,5,6,7,8,9,10]\n",
    "\n",
    "even_numbers = list(filter(lambda x : x % 2 == 0, numbers))\n",
    "print(even_numbers)"
   ],
   "id": "3682912f581d554a",
   "outputs": [
    {
     "name": "stdout",
     "output_type": "stream",
     "text": [
      "[2, 4, 6, 8, 10]\n"
     ]
    }
   ],
   "execution_count": 57
  },
  {
   "metadata": {
    "ExecuteTime": {
     "end_time": "2024-09-22T08:32:28.586610Z",
     "start_time": "2024-09-22T08:32:28.581771Z"
    }
   },
   "cell_type": "code",
   "source": [
    "words = [\"apple\", \"banana\", \"cherry\"]\n",
    "\n",
    "long_words = list(filter(lambda word: len(word) > 5, words))\n",
    "print(long_words)"
   ],
   "id": "c004d79fc58790c0",
   "outputs": [
    {
     "name": "stdout",
     "output_type": "stream",
     "text": [
      "['banana', 'cherry']\n"
     ]
    }
   ],
   "execution_count": 60
  },
  {
   "metadata": {},
   "cell_type": "code",
   "outputs": [],
   "execution_count": null,
   "source": "",
   "id": "fef9cf502b1f9ba7"
  }
 ],
 "metadata": {
  "kernelspec": {
   "display_name": "Python 3",
   "language": "python",
   "name": "python3"
  },
  "language_info": {
   "codemirror_mode": {
    "name": "ipython",
    "version": 2
   },
   "file_extension": ".py",
   "mimetype": "text/x-python",
   "name": "python",
   "nbconvert_exporter": "python",
   "pygments_lexer": "ipython2",
   "version": "2.7.6"
  }
 },
 "nbformat": 4,
 "nbformat_minor": 5
}
