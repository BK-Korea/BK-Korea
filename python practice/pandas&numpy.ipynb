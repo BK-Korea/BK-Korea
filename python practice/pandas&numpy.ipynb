{
 "cells": [
  {
   "cell_type": "code",
   "id": "initial_id",
   "metadata": {
    "collapsed": true,
    "ExecuteTime": {
     "end_time": "2024-09-28T08:51:15.648689Z",
     "start_time": "2024-09-28T08:51:15.639541Z"
    }
   },
   "source": [
    "\"\"\"\n",
    "Series\n",
    "'Series'는 1차원 배열과 유사한 구조를 가지며, 단일 데이터 타입의 값을 가짐.\n",
    "각 값에는 고유한 인덱스가 할당되어 있어, 인덱스를 통해 개별 데이터에 접근.\n",
    "\"\"\""
   ],
   "outputs": [
    {
     "data": {
      "text/plain": [
       "\"\\nSeries\\n'Series'는 1차원 배열과 유사한 구조를 가지며, 단일 데이터 타입의 값을 가짐.\\n각 값에는 고유한 인덱스가 할당되어 있어, 인덱스를 통해 개별 데이터에 접근.\\n\""
      ]
     },
     "execution_count": 1,
     "metadata": {},
     "output_type": "execute_result"
    }
   ],
   "execution_count": 1
  },
  {
   "metadata": {
    "ExecuteTime": {
     "end_time": "2024-09-28T09:31:17.768947Z",
     "start_time": "2024-09-28T09:31:17.764337Z"
    }
   },
   "cell_type": "code",
   "source": [
    "import pandas as pd #설치가 안되어 있어 오류\n",
    "\n",
    "data1 = [1,2,3,4,5]\n",
    "series = pd.Series(data1)\n",
    "\n",
    "print(series)"
   ],
   "id": "1840b7970f72d666",
   "outputs": [
    {
     "name": "stdout",
     "output_type": "stream",
     "text": [
      "0    1\n",
      "1    2\n",
      "2    3\n",
      "3    4\n",
      "4    5\n",
      "dtype: int64\n"
     ]
    }
   ],
   "execution_count": 53
  },
  {
   "metadata": {
    "ExecuteTime": {
     "end_time": "2024-09-28T08:52:37.007008Z",
     "start_time": "2024-09-28T08:52:08.454170Z"
    }
   },
   "cell_type": "code",
   "source": "pip install pandas",
   "id": "c51d9e2d2d3466ed",
   "outputs": [
    {
     "name": "stdout",
     "output_type": "stream",
     "text": [
      "Collecting pandas\n",
      "  Obtaining dependency information for pandas from https://files.pythonhosted.org/packages/29/d4/1244ab8edf173a10fd601f7e13b9566c1b525c4f365d6bee918e68381889/pandas-2.2.3-cp312-cp312-win_amd64.whl.metadata\n",
      "  Downloading pandas-2.2.3-cp312-cp312-win_amd64.whl.metadata (19 kB)\n",
      "Collecting numpy>=1.26.0 (from pandas)\n",
      "  Obtaining dependency information for numpy>=1.26.0 from https://files.pythonhosted.org/packages/b7/98/5640a09daa3abf0caeaefa6e7bf0d10c0aa28a77c84e507d6a716e0e23df/numpy-2.1.1-cp312-cp312-win_amd64.whl.metadata\n",
      "  Downloading numpy-2.1.1-cp312-cp312-win_amd64.whl.metadata (59 kB)\n",
      "     ---------------------------------------- 0.0/59.7 kB ? eta -:--:--\n",
      "     ---------------------------------------- 0.0/59.7 kB ? eta -:--:--\n",
      "     ------ --------------------------------- 10.2/59.7 kB ? eta -:--:--\n",
      "     -------------------------------------- 59.7/59.7 kB 634.7 kB/s eta 0:00:00\n",
      "Requirement already satisfied: python-dateutil>=2.8.2 in c:\\users\\bk\\pycharmprojects\\pythonproject\\.venv\\lib\\site-packages (from pandas) (2.9.0.post0)\n",
      "Collecting pytz>=2020.1 (from pandas)\n",
      "  Obtaining dependency information for pytz>=2020.1 from https://files.pythonhosted.org/packages/11/c3/005fcca25ce078d2cc29fd559379817424e94885510568bc1bc53d7d5846/pytz-2024.2-py2.py3-none-any.whl.metadata\n",
      "  Downloading pytz-2024.2-py2.py3-none-any.whl.metadata (22 kB)\n",
      "Collecting tzdata>=2022.7 (from pandas)\n",
      "  Obtaining dependency information for tzdata>=2022.7 from https://files.pythonhosted.org/packages/a6/ab/7e5f53c3b9d14972843a647d8d7a853969a58aecc7559cb3267302c94774/tzdata-2024.2-py2.py3-none-any.whl.metadata\n",
      "  Downloading tzdata-2024.2-py2.py3-none-any.whl.metadata (1.4 kB)\n",
      "Requirement already satisfied: six>=1.5 in c:\\users\\bk\\pycharmprojects\\pythonproject\\.venv\\lib\\site-packages (from python-dateutil>=2.8.2->pandas) (1.16.0)\n",
      "Downloading pandas-2.2.3-cp312-cp312-win_amd64.whl (11.5 MB)\n",
      "   ---------------------------------------- 0.0/11.5 MB ? eta -:--:--\n",
      "   --- ------------------------------------ 0.9/11.5 MB 29.7 MB/s eta 0:00:01\n",
      "   -------- ------------------------------- 2.4/11.5 MB 31.1 MB/s eta 0:00:01\n",
      "   ---------------- ----------------------- 4.8/11.5 MB 44.1 MB/s eta 0:00:01\n",
      "   -------------------------- ------------- 7.7/11.5 MB 49.5 MB/s eta 0:00:01\n",
      "   ---------------------------- ----------- 8.2/11.5 MB 40.4 MB/s eta 0:00:01\n",
      "   ----------------------------------- ---- 10.2/11.5 MB 40.7 MB/s eta 0:00:01\n",
      "   ---------------------------------------  11.5/11.5 MB 43.7 MB/s eta 0:00:01\n",
      "   ---------------------------------------- 11.5/11.5 MB 36.4 MB/s eta 0:00:00\n",
      "Downloading numpy-2.1.1-cp312-cp312-win_amd64.whl (12.6 MB)\n",
      "   ---------------------------------------- 0.0/12.6 MB ? eta -:--:--\n",
      "   -------- ------------------------------- 2.8/12.6 MB 58.6 MB/s eta 0:00:01\n",
      "   ---------- ----------------------------- 3.1/12.6 MB 50.5 MB/s eta 0:00:01\n",
      "   ---------- ----------------------------- 3.1/12.6 MB 50.5 MB/s eta 0:00:01\n",
      "   ---------- ----------------------------- 3.1/12.6 MB 50.5 MB/s eta 0:00:01\n",
      "   ---------- ----------------------------- 3.1/12.6 MB 50.5 MB/s eta 0:00:01\n",
      "   ---------- ----------------------------- 3.1/12.6 MB 50.5 MB/s eta 0:00:01\n",
      "   ----------------- ---------------------- 5.5/12.6 MB 16.6 MB/s eta 0:00:01\n",
      "   ----------------------- ---------------- 7.3/12.6 MB 21.3 MB/s eta 0:00:01\n",
      "   ----------------------- ---------------- 7.3/12.6 MB 21.3 MB/s eta 0:00:01\n",
      "   ----------------------- ---------------- 7.3/12.6 MB 21.3 MB/s eta 0:00:01\n",
      "   ----------------------- ---------------- 7.3/12.6 MB 21.3 MB/s eta 0:00:01\n",
      "   ----------------------- ---------------- 7.3/12.6 MB 21.3 MB/s eta 0:00:01\n",
      "   ----------------------- ---------------- 7.3/12.6 MB 21.3 MB/s eta 0:00:01\n",
      "   ----------------------------- ---------- 9.2/12.6 MB 14.4 MB/s eta 0:00:01\n",
      "   --------------------------------- ------ 10.5/12.6 MB 15.2 MB/s eta 0:00:01\n",
      "   --------------------------------- ------ 10.5/12.6 MB 15.2 MB/s eta 0:00:01\n",
      "   ------------------------------------ --- 11.5/12.6 MB 13.6 MB/s eta 0:00:01\n",
      "   ---------------------------------------  12.6/12.6 MB 13.4 MB/s eta 0:00:01\n",
      "   ---------------------------------------- 12.6/12.6 MB 12.6 MB/s eta 0:00:00\n",
      "Downloading pytz-2024.2-py2.py3-none-any.whl (508 kB)\n",
      "   ---------------------------------------- 0.0/508.0 kB ? eta -:--:--\n",
      "   --------------------------------------- 508.0/508.0 kB 33.2 MB/s eta 0:00:00\n",
      "Downloading tzdata-2024.2-py2.py3-none-any.whl (346 kB)\n",
      "   ---------------------------------------- 0.0/346.6 kB ? eta -:--:--\n",
      "   --------------------------------------- 346.6/346.6 kB 21.0 MB/s eta 0:00:00\n",
      "Installing collected packages: pytz, tzdata, numpy, pandas\n",
      "Successfully installed numpy-2.1.1 pandas-2.2.3 pytz-2024.2 tzdata-2024.2\n",
      "Note: you may need to restart the kernel to use updated packages.\n"
     ]
    },
    {
     "name": "stderr",
     "output_type": "stream",
     "text": [
      "\n",
      "[notice] A new release of pip is available: 23.2.1 -> 24.2\n",
      "[notice] To update, run: python.exe -m pip install --upgrade pip\n"
     ]
    }
   ],
   "execution_count": 3
  },
  {
   "metadata": {
    "ExecuteTime": {
     "end_time": "2024-09-28T08:54:10.470704Z",
     "start_time": "2024-09-28T08:54:10.464621Z"
    }
   },
   "cell_type": "code",
   "source": "python - m pip install --upgrade pip #이건 여기다가 아니라 cmd에",
   "id": "171a1dd1fd6d3eb8",
   "outputs": [
    {
     "ename": "SyntaxError",
     "evalue": "invalid syntax (1104317531.py, line 1)",
     "output_type": "error",
     "traceback": [
      "\u001B[1;36m  Cell \u001B[1;32mIn[4], line 1\u001B[1;36m\u001B[0m\n\u001B[1;33m    python - m pip install --upgrade pip\u001B[0m\n\u001B[1;37m               ^\u001B[0m\n\u001B[1;31mSyntaxError\u001B[0m\u001B[1;31m:\u001B[0m invalid syntax\n"
     ]
    }
   ],
   "execution_count": 4
  },
  {
   "metadata": {
    "ExecuteTime": {
     "end_time": "2024-09-28T09:31:31.326540Z",
     "start_time": "2024-09-28T09:31:31.321561Z"
    }
   },
   "cell_type": "code",
   "source": [
    "import pandas as pd #설치가 안되어 있어 오류\n",
    "\n",
    "data2 = [1,2,3,4,5]\n",
    "series = pd.Series(data2)\n",
    "\n",
    "print(series)"
   ],
   "id": "6d7a202c3c495e7c",
   "outputs": [
    {
     "name": "stdout",
     "output_type": "stream",
     "text": [
      "0    1\n",
      "1    2\n",
      "2    3\n",
      "3    4\n",
      "4    5\n",
      "dtype: int64\n"
     ]
    }
   ],
   "execution_count": 54
  },
  {
   "metadata": {
    "ExecuteTime": {
     "end_time": "2024-09-28T08:58:11.791699Z",
     "start_time": "2024-09-28T08:58:11.785999Z"
    }
   },
   "cell_type": "code",
   "source": [
    "\"\"\"\n",
    "DataFrame\n",
    "'DataFrame'은 2차원 레이블이 붙은 데이터 구조로, SQL 테이블이나 엑셀 스프레드시트와 비슷한 형태입니다. 서로 다른 데이터 타입의 열을 갖을 수 있으며, 각 열은 'Series'객체입니다.\n",
    "\"\"\""
   ],
   "id": "9ec0594441b72801",
   "outputs": [
    {
     "data": {
      "text/plain": [
       "\"\\nDataFrame\\n'DataFrame'은 2차원 레이블이 붙은 데이터 구조로, SQL 테이블이나 엑셀 스프레드시트와 비슷한 형태입니다. 서로 다른 데이터 타입의 열을 갖을 수 있으며, 각 열은 'Series'객체입니다.\\n\""
      ]
     },
     "execution_count": 9,
     "metadata": {},
     "output_type": "execute_result"
    }
   ],
   "execution_count": 9
  },
  {
   "metadata": {
    "ExecuteTime": {
     "end_time": "2024-09-28T09:33:36.886205Z",
     "start_time": "2024-09-28T09:33:36.879157Z"
    }
   },
   "cell_type": "code",
   "source": [
    "pd.set_option('display.max_columns', None)  # 열 개수 제한 해제\n",
    "pd.set_option('display.width', 1000)         # 출력 너비를 100으로 설정\n",
    "data3 = {\n",
    "    'Name' : ['pool', 'kay', 'dean', 'kai'],\n",
    "    'Age' : [1, 2, 3, 4],\n",
    "    'City' : ['New York', 'Paris', 'korea', 'japan']\n",
    "}\n",
    "df = pd.DataFrame(data3)\n",
    "\n",
    "print(df)"
   ],
   "id": "b9afaf5802663e20",
   "outputs": [
    {
     "name": "stdout",
     "output_type": "stream",
     "text": [
      "   Name  Age      City\n",
      "0  pool    1  New York\n",
      "1   kay    2     Paris\n",
      "2  dean    3     korea\n",
      "3   kai    4     japan\n"
     ]
    }
   ],
   "execution_count": 60
  },
  {
   "metadata": {
    "ExecuteTime": {
     "end_time": "2024-09-28T09:34:30.467615Z",
     "start_time": "2024-09-28T09:34:30.460756Z"
    }
   },
   "cell_type": "code",
   "source": [
    "pd.set_option('display.max_columns', None)  # 열 개수 제한 해제\n",
    "pd.set_option('display.width', 1000)         # 출력 너비를 100으로 설정\n",
    "pd.set_option('display.max_colwidth', 1000)  # 열 너비를 충분히 크게 설정\n",
    "\n",
    "data4 = [[1,2,3,4,5], [1,2,3,4,5]]\n",
    "series = pd.Series(data4)\n",
    "\n",
    "print(series)"
   ],
   "id": "2e8280f65db17861",
   "outputs": [
    {
     "name": "stdout",
     "output_type": "stream",
     "text": [
      "0    [1, 2, 3, 4, 5]\n",
      "1    [1, 2, 3, 4, 5]\n",
      "dtype: object\n"
     ]
    }
   ],
   "execution_count": 62
  },
  {
   "metadata": {
    "ExecuteTime": {
     "end_time": "2024-09-28T09:34:39.525492Z",
     "start_time": "2024-09-28T09:34:39.474087Z"
    }
   },
   "cell_type": "code",
   "source": [
    "data = {1,2,3,4,5}\n",
    "series = pd.Series(data)\n",
    "\n",
    "print(series)"
   ],
   "id": "35fb7507b4814b4d",
   "outputs": [
    {
     "ename": "TypeError",
     "evalue": "'set' type is unordered",
     "output_type": "error",
     "traceback": [
      "\u001B[1;31m---------------------------------------------------------------------------\u001B[0m",
      "\u001B[1;31mTypeError\u001B[0m                                 Traceback (most recent call last)",
      "Cell \u001B[1;32mIn[63], line 2\u001B[0m\n\u001B[0;32m      1\u001B[0m data \u001B[38;5;241m=\u001B[39m {\u001B[38;5;241m1\u001B[39m,\u001B[38;5;241m2\u001B[39m,\u001B[38;5;241m3\u001B[39m,\u001B[38;5;241m4\u001B[39m,\u001B[38;5;241m5\u001B[39m}\n\u001B[1;32m----> 2\u001B[0m series \u001B[38;5;241m=\u001B[39m \u001B[43mpd\u001B[49m\u001B[38;5;241;43m.\u001B[39;49m\u001B[43mSeries\u001B[49m\u001B[43m(\u001B[49m\u001B[43mdata\u001B[49m\u001B[43m)\u001B[49m\n\u001B[0;32m      4\u001B[0m \u001B[38;5;28mprint\u001B[39m(series)\n",
      "File \u001B[1;32m~\\PycharmProjects\\pythonProject\\.venv\\Lib\\site-packages\\pandas\\core\\series.py:584\u001B[0m, in \u001B[0;36mSeries.__init__\u001B[1;34m(self, data, index, dtype, name, copy, fastpath)\u001B[0m\n\u001B[0;32m    582\u001B[0m         data \u001B[38;5;241m=\u001B[39m data\u001B[38;5;241m.\u001B[39mcopy()\n\u001B[0;32m    583\u001B[0m \u001B[38;5;28;01melse\u001B[39;00m:\n\u001B[1;32m--> 584\u001B[0m     data \u001B[38;5;241m=\u001B[39m \u001B[43msanitize_array\u001B[49m\u001B[43m(\u001B[49m\u001B[43mdata\u001B[49m\u001B[43m,\u001B[49m\u001B[43m \u001B[49m\u001B[43mindex\u001B[49m\u001B[43m,\u001B[49m\u001B[43m \u001B[49m\u001B[43mdtype\u001B[49m\u001B[43m,\u001B[49m\u001B[43m \u001B[49m\u001B[43mcopy\u001B[49m\u001B[43m)\u001B[49m\n\u001B[0;32m    586\u001B[0m     manager \u001B[38;5;241m=\u001B[39m _get_option(\u001B[38;5;124m\"\u001B[39m\u001B[38;5;124mmode.data_manager\u001B[39m\u001B[38;5;124m\"\u001B[39m, silent\u001B[38;5;241m=\u001B[39m\u001B[38;5;28;01mTrue\u001B[39;00m)\n\u001B[0;32m    587\u001B[0m     \u001B[38;5;28;01mif\u001B[39;00m manager \u001B[38;5;241m==\u001B[39m \u001B[38;5;124m\"\u001B[39m\u001B[38;5;124mblock\u001B[39m\u001B[38;5;124m\"\u001B[39m:\n",
      "File \u001B[1;32m~\\PycharmProjects\\pythonProject\\.venv\\Lib\\site-packages\\pandas\\core\\construction.py:642\u001B[0m, in \u001B[0;36msanitize_array\u001B[1;34m(data, index, dtype, copy, allow_2d)\u001B[0m\n\u001B[0;32m    633\u001B[0m     \u001B[38;5;28;01mreturn\u001B[39;00m sanitize_array(\n\u001B[0;32m    634\u001B[0m         data,\n\u001B[0;32m    635\u001B[0m         index\u001B[38;5;241m=\u001B[39mindex,\n\u001B[1;32m   (...)\u001B[0m\n\u001B[0;32m    638\u001B[0m         allow_2d\u001B[38;5;241m=\u001B[39mallow_2d,\n\u001B[0;32m    639\u001B[0m     )\n\u001B[0;32m    641\u001B[0m \u001B[38;5;28;01melse\u001B[39;00m:\n\u001B[1;32m--> 642\u001B[0m     \u001B[43m_sanitize_non_ordered\u001B[49m\u001B[43m(\u001B[49m\u001B[43mdata\u001B[49m\u001B[43m)\u001B[49m\n\u001B[0;32m    643\u001B[0m     \u001B[38;5;66;03m# materialize e.g. generators, convert e.g. tuples, abc.ValueView\u001B[39;00m\n\u001B[0;32m    644\u001B[0m     data \u001B[38;5;241m=\u001B[39m \u001B[38;5;28mlist\u001B[39m(data)\n",
      "File \u001B[1;32m~\\PycharmProjects\\pythonProject\\.venv\\Lib\\site-packages\\pandas\\core\\construction.py:693\u001B[0m, in \u001B[0;36m_sanitize_non_ordered\u001B[1;34m(data)\u001B[0m\n\u001B[0;32m    689\u001B[0m \u001B[38;5;250m\u001B[39m\u001B[38;5;124;03m\"\"\"\u001B[39;00m\n\u001B[0;32m    690\u001B[0m \u001B[38;5;124;03mRaise only for unordered sets, e.g., not for dict_keys\u001B[39;00m\n\u001B[0;32m    691\u001B[0m \u001B[38;5;124;03m\"\"\"\u001B[39;00m\n\u001B[0;32m    692\u001B[0m \u001B[38;5;28;01mif\u001B[39;00m \u001B[38;5;28misinstance\u001B[39m(data, (\u001B[38;5;28mset\u001B[39m, \u001B[38;5;28mfrozenset\u001B[39m)):\n\u001B[1;32m--> 693\u001B[0m     \u001B[38;5;28;01mraise\u001B[39;00m \u001B[38;5;167;01mTypeError\u001B[39;00m(\u001B[38;5;124mf\u001B[39m\u001B[38;5;124m\"\u001B[39m\u001B[38;5;124m'\u001B[39m\u001B[38;5;132;01m{\u001B[39;00m\u001B[38;5;28mtype\u001B[39m(data)\u001B[38;5;241m.\u001B[39m\u001B[38;5;18m__name__\u001B[39m\u001B[38;5;132;01m}\u001B[39;00m\u001B[38;5;124m'\u001B[39m\u001B[38;5;124m type is unordered\u001B[39m\u001B[38;5;124m\"\u001B[39m)\n",
      "\u001B[1;31mTypeError\u001B[0m: 'set' type is unordered"
     ]
    }
   ],
   "execution_count": 63
  },
  {
   "metadata": {
    "ExecuteTime": {
     "end_time": "2024-09-28T09:13:26.691504Z",
     "start_time": "2024-09-28T09:13:26.686561Z"
    }
   },
   "cell_type": "code",
   "source": [
    "\"\"\"\n",
    "data = {1, 2, 3, 4, 5}은 **집합(set)**입니다. 집합은 순서가 없는 자료형이므로, 이를 pandas.Series로 변환할 때 순서가 중요한 시리즈로 변환하려면 순서를 보장할 수 있는 자료형(리스트나 튜플)로 변환\n",
    "\"\"\""
   ],
   "id": "a2047272b046790b",
   "outputs": [
    {
     "data": {
      "text/plain": [
       "'\\ndata = {1, 2, 3, 4, 5}은 **집합(set)**입니다. 집합은 순서가 없는 자료형이므로, 이를 pandas.Series로 변환할 때 순서가 중요한 시리즈로 변환하려면 순서를 보장할 수 있는 자료형(리스트나 튜플)로 변환\\n'"
      ]
     },
     "execution_count": 15,
     "metadata": {},
     "output_type": "execute_result"
    }
   ],
   "execution_count": 15
  },
  {
   "metadata": {
    "ExecuteTime": {
     "end_time": "2024-09-28T09:34:44.917505Z",
     "start_time": "2024-09-28T09:34:44.910807Z"
    }
   },
   "cell_type": "code",
   "source": "data = pd.read_csv('data5.csv')",
   "id": "d08c22a7fbc7b49f",
   "outputs": [],
   "execution_count": 64
  },
  {
   "metadata": {
    "ExecuteTime": {
     "end_time": "2024-09-28T09:34:45.142573Z",
     "start_time": "2024-09-28T09:34:45.137616Z"
    }
   },
   "cell_type": "code",
   "source": [
    "pd.set_option('display.max_rows', 10)\n",
    "pd.set_option('display.max_columns', 10)\n",
    "pd.set_option('display.max_colwidth', 10)\n",
    "pd.set_option('display.width', 10)"
   ],
   "id": "85cf5325a0df06de",
   "outputs": [],
   "execution_count": 65
  },
  {
   "metadata": {
    "ExecuteTime": {
     "end_time": "2024-09-28T09:34:45.565444Z",
     "start_time": "2024-09-28T09:34:45.557882Z"
    }
   },
   "cell_type": "code",
   "source": "data",
   "id": "4109d6397236725f",
   "outputs": [
    {
     "data": {
      "text/plain": [
       "    name  \\\n",
       "0   john   \n",
       "1    Ace   \n",
       "2  emily   \n",
       "\n",
       "   age  \\\n",
       "0   25   \n",
       "1   20   \n",
       "2   22   \n",
       "\n",
       "  Sex  \n",
       "0   M  \n",
       "1   M  \n",
       "2   F  "
      ],
      "text/html": [
       "<div>\n",
       "<style scoped>\n",
       "    .dataframe tbody tr th:only-of-type {\n",
       "        vertical-align: middle;\n",
       "    }\n",
       "\n",
       "    .dataframe tbody tr th {\n",
       "        vertical-align: top;\n",
       "    }\n",
       "\n",
       "    .dataframe thead th {\n",
       "        text-align: right;\n",
       "    }\n",
       "</style>\n",
       "<table border=\"1\" class=\"dataframe\">\n",
       "  <thead>\n",
       "    <tr style=\"text-align: right;\">\n",
       "      <th></th>\n",
       "      <th>name</th>\n",
       "      <th>age</th>\n",
       "      <th>Sex</th>\n",
       "    </tr>\n",
       "  </thead>\n",
       "  <tbody>\n",
       "    <tr>\n",
       "      <th>0</th>\n",
       "      <td>john</td>\n",
       "      <td>25</td>\n",
       "      <td>M</td>\n",
       "    </tr>\n",
       "    <tr>\n",
       "      <th>1</th>\n",
       "      <td>Ace</td>\n",
       "      <td>20</td>\n",
       "      <td>M</td>\n",
       "    </tr>\n",
       "    <tr>\n",
       "      <th>2</th>\n",
       "      <td>emily</td>\n",
       "      <td>22</td>\n",
       "      <td>F</td>\n",
       "    </tr>\n",
       "  </tbody>\n",
       "</table>\n",
       "</div>"
      ]
     },
     "execution_count": 66,
     "metadata": {},
     "output_type": "execute_result"
    }
   ],
   "execution_count": 66
  },
  {
   "metadata": {
    "ExecuteTime": {
     "end_time": "2024-09-28T09:34:51.690043Z",
     "start_time": "2024-09-28T09:34:51.684408Z"
    }
   },
   "cell_type": "code",
   "source": [
    "\"\"\"\n",
    "display.max_rows : 출력할 최대 행의 수를 설정\n",
    "display.max_columns : 출력할 최대 열의 수를 설정\n",
    "display.max_colwidth : 최대 문자의 수를 설정\n",
    "display.width : 콘솔 출력 시, 출력할 때의 전체 페이지 너비를 설정\n",
    "\n",
    "\"\"\""
   ],
   "id": "3c4efc4ea1977003",
   "outputs": [
    {
     "data": {
      "text/plain": [
       "'\\ndisplay.max_rows : 출력할 최대 행의 수를 설정\\ndisplay.max_columns : 출력할 최대 열의 수를 설정\\ndisplay.max_colwidth : 최대 문자의 수를 설정\\ndisplay.width : 콘솔 출력 시, 출력할 때의 전체 페이지 너비를 설정\\n\\n'"
      ]
     },
     "execution_count": 67,
     "metadata": {},
     "output_type": "execute_result"
    }
   ],
   "execution_count": 67
  },
  {
   "metadata": {
    "ExecuteTime": {
     "end_time": "2024-09-28T09:37:03.281508Z",
     "start_time": "2024-09-28T09:37:03.276574Z"
    }
   },
   "cell_type": "code",
   "source": [
    "import numpy as np\n",
    "a = np.array([1,2,3])\n",
    "b = np.array([[2,4,6],[3,6,9]])\n",
    "\n",
    "print(a)\n",
    "print(b)"
   ],
   "id": "aefc05a7d33e90bf",
   "outputs": [
    {
     "name": "stdout",
     "output_type": "stream",
     "text": [
      "[1 2 3]\n",
      "[[2 4 6]\n",
      " [3 6 9]]\n"
     ]
    }
   ],
   "execution_count": 72
  },
  {
   "metadata": {},
   "cell_type": "code",
   "outputs": [],
   "execution_count": null,
   "source": "",
   "id": "ae272e0e57a61b9d"
  }
 ],
 "metadata": {
  "kernelspec": {
   "display_name": "Python 3",
   "language": "python",
   "name": "python3"
  },
  "language_info": {
   "codemirror_mode": {
    "name": "ipython",
    "version": 2
   },
   "file_extension": ".py",
   "mimetype": "text/x-python",
   "name": "python",
   "nbconvert_exporter": "python",
   "pygments_lexer": "ipython2",
   "version": "2.7.6"
  }
 },
 "nbformat": 4,
 "nbformat_minor": 5
}
