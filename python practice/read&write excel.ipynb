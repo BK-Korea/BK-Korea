{
 "cells": [
  {
   "metadata": {
    "ExecuteTime": {
     "end_time": "2024-09-25T13:17:58.007805Z",
     "start_time": "2024-09-25T13:17:58.001390Z"
    }
   },
   "cell_type": "code",
   "source": [
    "import work\n",
    "\n",
    "pip install openpyxl"
   ],
   "id": "28cd7a89acf85568",
   "outputs": [
    {
     "ename": "SyntaxError",
     "evalue": "invalid syntax (3789172341.py, line 3)",
     "output_type": "error",
     "traceback": [
      "\u001B[1;36m  Cell \u001B[1;32mIn[3], line 3\u001B[1;36m\u001B[0m\n\u001B[1;33m    pip install openpyxl\u001B[0m\n\u001B[1;37m        ^\u001B[0m\n\u001B[1;31mSyntaxError\u001B[0m\u001B[1;31m:\u001B[0m invalid syntax\n"
     ]
    }
   ],
   "execution_count": 3
  },
  {
   "metadata": {
    "ExecuteTime": {
     "end_time": "2024-09-25T13:18:03.015440Z",
     "start_time": "2024-09-25T13:18:02.288222Z"
    }
   },
   "cell_type": "code",
   "source": "import openpyxl",
   "id": "df1a00ce6ae937eb",
   "outputs": [],
   "execution_count": 4
  },
  {
   "metadata": {
    "ExecuteTime": {
     "end_time": "2024-09-25T13:18:03.026160Z",
     "start_time": "2024-09-25T13:18:03.020452Z"
    }
   },
   "cell_type": "code",
   "source": [
    "from openpyxl import Workbook\n",
    "#새로운 워크북(엑셀파일) 생성\n",
    "workbook = Workbook()"
   ],
   "id": "b9ad4e2a1a2cf6d",
   "outputs": [],
   "execution_count": 5
  },
  {
   "metadata": {
    "ExecuteTime": {
     "end_time": "2024-09-25T13:18:03.734480Z",
     "start_time": "2024-09-25T13:18:03.728315Z"
    }
   },
   "cell_type": "code",
   "source": [
    "sheet = workbook.active\n",
    "\n",
    "sheet['A1'] = 'Name'\n",
    "sheet['B1'] = 'Age'\n",
    "sheet['C1'] = 'Gender'"
   ],
   "id": "8b58d65a299f118b",
   "outputs": [],
   "execution_count": 6
  },
  {
   "metadata": {
    "ExecuteTime": {
     "end_time": "2024-09-25T13:18:04.242256Z",
     "start_time": "2024-09-25T13:18:04.237312Z"
    }
   },
   "cell_type": "code",
   "source": [
    "data = [('john', 20 , 'male'),\n",
    "        ('koh', 12, 'male'),\n",
    "        ('lee', 22, 'female'),]\n",
    "\n",
    "for row_data in data:\n",
    "    sheet.append(row_data)\n",
    "    "
   ],
   "id": "bae33b9473e23b57",
   "outputs": [],
   "execution_count": 7
  },
  {
   "metadata": {
    "ExecuteTime": {
     "end_time": "2024-09-24T13:38:27.961613Z",
     "start_time": "2024-09-24T13:38:27.954824Z"
    }
   },
   "cell_type": "code",
   "source": [
    "\"\"\"\n",
    "**for row_data in data:**는 데이터를 한 행씩 가져와 엑셀 시트에 추가하는 루프입니다.\n",
    "**sheet.append(row_data)**는 리스트 형태의 데이터를 엑셀 시트의 한 행에 추가합니다.\n",
    "\"\"\""
   ],
   "id": "418b7fb0c93b0ed6",
   "outputs": [
    {
     "data": {
      "text/plain": [
       "'\\n**for row_data in data:**는 데이터를 한 행씩 가져와 엑셀 시트에 추가하는 루프입니다.\\n**sheet.append(row_data)**는 리스트 형태의 데이터를 엑셀 시트의 한 행에 추가합니다.\\n'"
      ]
     },
     "execution_count": 22,
     "metadata": {},
     "output_type": "execute_result"
    }
   ],
   "execution_count": 22
  },
  {
   "metadata": {
    "ExecuteTime": {
     "end_time": "2024-09-25T13:18:08.690175Z",
     "start_time": "2024-09-25T13:18:08.652647Z"
    }
   },
   "cell_type": "code",
   "source": "workbook.save('excel_data_2.xlsx')",
   "id": "d25d329a799afaee",
   "outputs": [],
   "execution_count": 8
  },
  {
   "metadata": {
    "ExecuteTime": {
     "end_time": "2024-09-25T13:18:08.977735Z",
     "start_time": "2024-09-25T13:18:08.959436Z"
    }
   },
   "cell_type": "code",
   "source": [
    "from openpyxl import load_workbook\n",
    "\n",
    "workbook = load_workbook('excel_data.xlsx')"
   ],
   "id": "98f9b2139f227d97",
   "outputs": [],
   "execution_count": 9
  },
  {
   "metadata": {
    "ExecuteTime": {
     "end_time": "2024-09-25T13:38:06.788892Z",
     "start_time": "2024-09-25T13:38:06.783645Z"
    }
   },
   "cell_type": "code",
   "source": [
    "sheet = workbook.active\n",
    "\n",
    "for row in sheet.iter_rows(values_only=True):\n",
    "    #values_only=True를 사용하게 되면 값만 가져올 수 있음\n",
    "    print(row)"
   ],
   "id": "eb859c161688af8a",
   "outputs": [
    {
     "name": "stdout",
     "output_type": "stream",
     "text": [
      "('Name', 'Age', 'Gender')\n",
      "('John', 25, 'male')\n",
      "('Emily', 30, 'female')\n",
      "('Michael', 35, 'male')\n",
      "('David', 27, 'Male')\n",
      "('David', 27, 'Male')\n",
      "('David', 27, 'Male')\n"
     ]
    }
   ],
   "execution_count": 53
  },
  {
   "metadata": {
    "ExecuteTime": {
     "end_time": "2024-09-25T13:18:11.577449Z",
     "start_time": "2024-09-25T13:18:11.572566Z"
    }
   },
   "cell_type": "code",
   "source": [
    "data_dict = {}\n",
    "\n",
    "for col in sheet.iter_cols(values_only=True):\n",
    "    #각 컬럼 값들에 대해서 첫번쨰 값은 딕셔너리 키, 나머지는 벨류 저장\n",
    "    data_dict[col[0]] = list(col[1:])\n",
    "print(data_dict)"
   ],
   "id": "fe1843c07f3244f9",
   "outputs": [
    {
     "name": "stdout",
     "output_type": "stream",
     "text": [
      "{'Name': ['John', 'Emily', 'Michael'], 'Age': [25, 30, 35], 'Gender': ['male', 'female', 'male']}\n"
     ]
    }
   ],
   "execution_count": 11
  },
  {
   "metadata": {
    "ExecuteTime": {
     "end_time": "2024-09-25T13:18:11.997223Z",
     "start_time": "2024-09-25T13:18:11.991775Z"
    }
   },
   "cell_type": "code",
   "source": [
    "sheet = workbook.active\n",
    "\n",
    "for row in sheet.iter_rows(values_only=False):\n",
    "    print(row)"
   ],
   "id": "6cc0d2e35ceff632",
   "outputs": [
    {
     "name": "stdout",
     "output_type": "stream",
     "text": [
      "(<Cell 'Sheet'.A1>, <Cell 'Sheet'.B1>, <Cell 'Sheet'.C1>)\n",
      "(<Cell 'Sheet'.A2>, <Cell 'Sheet'.B2>, <Cell 'Sheet'.C2>)\n",
      "(<Cell 'Sheet'.A3>, <Cell 'Sheet'.B3>, <Cell 'Sheet'.C3>)\n",
      "(<Cell 'Sheet'.A4>, <Cell 'Sheet'.B4>, <Cell 'Sheet'.C4>)\n"
     ]
    }
   ],
   "execution_count": 12
  },
  {
   "metadata": {
    "ExecuteTime": {
     "end_time": "2024-09-25T13:18:12.543048Z",
     "start_time": "2024-09-25T13:18:12.538217Z"
    }
   },
   "cell_type": "code",
   "source": [
    "sheet = workbook.active\n",
    "\n",
    "for row in sheet.iter_rows(values_only=True):\n",
    "    print(row)"
   ],
   "id": "6f1025aa14626915",
   "outputs": [
    {
     "name": "stdout",
     "output_type": "stream",
     "text": [
      "('Name', 'Age', 'Gender')\n",
      "('John', 25, 'male')\n",
      "('Emily', 30, 'female')\n",
      "('Michael', 35, 'male')\n"
     ]
    }
   ],
   "execution_count": 13
  },
  {
   "metadata": {
    "ExecuteTime": {
     "end_time": "2024-09-25T13:18:13.957204Z",
     "start_time": "2024-09-25T13:18:13.951129Z"
    }
   },
   "cell_type": "code",
   "source": [
    "data_dict = {}\n",
    "\n",
    "for col in sheet.iter_cols(values_only=True):\n",
    "    #각 컬럼 값들에 대해서 첫번쨰 값은 딕셔너리 키, 나머지는 벨류 저장\n",
    "    data_dict[col[0]] = list(col[1:])\n",
    "print(data_dict)"
   ],
   "id": "4deee26f1fa821cb",
   "outputs": [
    {
     "name": "stdout",
     "output_type": "stream",
     "text": [
      "{'Name': ['John', 'Emily', 'Michael'], 'Age': [25, 30, 35], 'Gender': ['male', 'female', 'male']}\n"
     ]
    }
   ],
   "execution_count": 14
  },
  {
   "metadata": {
    "ExecuteTime": {
     "end_time": "2024-09-25T13:18:14.575131Z",
     "start_time": "2024-09-25T13:18:14.567511Z"
    }
   },
   "cell_type": "code",
   "source": "data_dict['Age']",
   "id": "81db7a5d8e16f640",
   "outputs": [
    {
     "data": {
      "text/plain": [
       "[25, 30, 35]"
      ]
     },
     "execution_count": 15,
     "metadata": {},
     "output_type": "execute_result"
    }
   ],
   "execution_count": 15
  },
  {
   "metadata": {
    "ExecuteTime": {
     "end_time": "2024-09-25T13:18:37.409694Z",
     "start_time": "2024-09-25T13:18:37.404596Z"
    }
   },
   "cell_type": "code",
   "source": "sheet['A1']",
   "id": "bdc5d951604a5ebf",
   "outputs": [
    {
     "data": {
      "text/plain": [
       "<Cell 'Sheet'.A1>"
      ]
     },
     "execution_count": 16,
     "metadata": {},
     "output_type": "execute_result"
    }
   ],
   "execution_count": 16
  },
  {
   "metadata": {
    "ExecuteTime": {
     "end_time": "2024-09-25T13:19:18.341131Z",
     "start_time": "2024-09-25T13:19:18.335621Z"
    }
   },
   "cell_type": "code",
   "source": "sheet['A1'].value",
   "id": "e7b55af93aaab9e5",
   "outputs": [
    {
     "data": {
      "text/plain": [
       "'Name'"
      ]
     },
     "execution_count": 21,
     "metadata": {},
     "output_type": "execute_result"
    }
   ],
   "execution_count": 21
  },
  {
   "metadata": {
    "ExecuteTime": {
     "end_time": "2024-09-25T13:19:45.627319Z",
     "start_time": "2024-09-25T13:19:45.622393Z"
    }
   },
   "cell_type": "code",
   "source": "sheet.cell(row=1, column=1)",
   "id": "7c57bf691ac9e919",
   "outputs": [
    {
     "data": {
      "text/plain": [
       "<Cell 'Sheet'.A1>"
      ]
     },
     "execution_count": 22,
     "metadata": {},
     "output_type": "execute_result"
    }
   ],
   "execution_count": 22
  },
  {
   "metadata": {
    "ExecuteTime": {
     "end_time": "2024-09-25T13:20:27.500300Z",
     "start_time": "2024-09-25T13:20:27.494482Z"
    }
   },
   "cell_type": "code",
   "source": "sheet.cell(row=1, column=1).value",
   "id": "309e9a8fe1d78725",
   "outputs": [
    {
     "data": {
      "text/plain": [
       "'Name'"
      ]
     },
     "execution_count": 24,
     "metadata": {},
     "output_type": "execute_result"
    }
   ],
   "execution_count": 24
  },
  {
   "metadata": {
    "ExecuteTime": {
     "end_time": "2024-09-25T13:21:15.866198Z",
     "start_time": "2024-09-25T13:21:15.860222Z"
    }
   },
   "cell_type": "code",
   "source": "sheet['A1:C1']",
   "id": "3ee17e941bf9c895",
   "outputs": [
    {
     "data": {
      "text/plain": [
       "((<Cell 'Sheet'.A1>, <Cell 'Sheet'.B1>, <Cell 'Sheet'.C1>),)"
      ]
     },
     "execution_count": 29,
     "metadata": {},
     "output_type": "execute_result"
    }
   ],
   "execution_count": 29
  },
  {
   "metadata": {
    "ExecuteTime": {
     "end_time": "2024-09-25T13:21:22.263527Z",
     "start_time": "2024-09-25T13:21:22.250194Z"
    }
   },
   "cell_type": "code",
   "source": [
    "sheet['A1:C1'].value\n",
    "#오류남"
   ],
   "id": "bb9b087fd9b7ef10",
   "outputs": [
    {
     "ename": "AttributeError",
     "evalue": "'tuple' object has no attribute 'value'",
     "output_type": "error",
     "traceback": [
      "\u001B[1;31m---------------------------------------------------------------------------\u001B[0m",
      "\u001B[1;31mAttributeError\u001B[0m                            Traceback (most recent call last)",
      "Cell \u001B[1;32mIn[30], line 1\u001B[0m\n\u001B[1;32m----> 1\u001B[0m \u001B[43msheet\u001B[49m\u001B[43m[\u001B[49m\u001B[38;5;124;43m'\u001B[39;49m\u001B[38;5;124;43mA1:C1\u001B[39;49m\u001B[38;5;124;43m'\u001B[39;49m\u001B[43m]\u001B[49m\u001B[38;5;241;43m.\u001B[39;49m\u001B[43mvalue\u001B[49m\n",
      "\u001B[1;31mAttributeError\u001B[0m: 'tuple' object has no attribute 'value'"
     ]
    }
   ],
   "execution_count": 30
  },
  {
   "metadata": {
    "ExecuteTime": {
     "end_time": "2024-09-25T13:22:29.386797Z",
     "start_time": "2024-09-25T13:22:29.381390Z"
    }
   },
   "cell_type": "code",
   "source": [
    "\"\"\"\n",
    "오류 메시지에서 **AttributeError: 'tuple' object has no attribute 'value'**가 발생한 이유는 셀 범위인 'A1:C1'을 지정할 때 단일 셀이 아닌 범위를 선택했기 때문입니다. sheet['A1:C1']은 튜플 형태로 여러 셀을 반환하지만, 단일 셀처럼 .value를 사용할 수 없기 때문에 발생한 문제\n",
    "\"\"\""
   ],
   "id": "8babe00c022f3faa",
   "outputs": [
    {
     "data": {
      "text/plain": [
       "\"\\n오류 메시지에서 **AttributeError: 'tuple' object has no attribute 'value'**가 발생한 이유는 셀 범위인 'A1:C1'을 지정할 때 단일 셀이 아닌 범위를 선택했기 때문입니다. sheet['A1:C1']은 튜플 형태로 여러 셀을 반환하지만, 단일 셀처럼 .value를 사용할 수 없기 때문에 발생한 문제\\n\""
      ]
     },
     "execution_count": 31,
     "metadata": {},
     "output_type": "execute_result"
    }
   ],
   "execution_count": 31
  },
  {
   "metadata": {
    "ExecuteTime": {
     "end_time": "2024-09-25T13:28:33.754111Z",
     "start_time": "2024-09-25T13:28:33.749376Z"
    }
   },
   "cell_type": "code",
   "source": [
    "data_list = []\n",
    "for row in sheet['A2:C4']:\n",
    "    row_list = []\n",
    "    for val in row:\n",
    "        row_list.append(val.value)\n",
    "    data_list.append(row_list)\n",
    "print(data_list)"
   ],
   "id": "fcbee6f02614ccba",
   "outputs": [
    {
     "name": "stdout",
     "output_type": "stream",
     "text": [
      "[['John', 25, 'male']]\n",
      "[['John', 25, 'male'], ['Emily', 30, 'female']]\n",
      "[['John', 25, 'male'], ['Emily', 30, 'female'], ['Michael', 35, 'male']]\n",
      "[['John', 25, 'male'], ['Emily', 30, 'female'], ['Michael', 35, 'male']]\n"
     ]
    }
   ],
   "execution_count": 33
  },
  {
   "metadata": {
    "ExecuteTime": {
     "end_time": "2024-09-25T13:28:44.780340Z",
     "start_time": "2024-09-25T13:28:44.774766Z"
    }
   },
   "cell_type": "code",
   "source": [
    "\"\"\"\n",
    "sheet['A2:C4']:\n",
    "\n",
    "이 부분은 엑셀 시트에서 A2부터 C4까지의 셀 범위를 가져옵니다.\n",
    "각 행(row)은 셀 객체들의 리스트로 반환됩니다.\n",
    "row_list = []:\n",
    "\n",
    "각 행의 데이터를 저장하기 위한 빈 리스트를 생성합니다.\n",
    "for val in row:\n",
    "\n",
    "각 행의 셀을 순차적으로 순회합니다. **val**은 셀 객체이며, **val.value**는 셀에 저장된 실제 값을 가져옵니다.\n",
    "row_list.append(val.value):\n",
    "\n",
    "셀의 값을 **row_list**에 추가합니다.\n",
    "data_list.append(row_list):\n",
    "\n",
    "한 행의 값이 저장된 **row_list**를 전체 데이터 리스트인 **data_list**에 추가합니다.\n",
    "\"\"\""
   ],
   "id": "5363c3173249b258",
   "outputs": [
    {
     "data": {
      "text/plain": [
       "\"\\nsheet['A2:C4']:\\n\\n이 부분은 엑셀 시트에서 A2부터 C4까지의 셀 범위를 가져옵니다.\\n각 행(row)은 셀 객체들의 리스트로 반환됩니다.\\nrow_list = []:\\n\\n각 행의 데이터를 저장하기 위한 빈 리스트를 생성합니다.\\nfor val in row:\\n\\n각 행의 셀을 순차적으로 순회합니다. **val**은 셀 객체이며, **val.value**는 셀에 저장된 실제 값을 가져옵니다.\\nrow_list.append(val.value):\\n\\n셀의 값을 **row_list**에 추가합니다.\\ndata_list.append(row_list):\\n\\n한 행의 값이 저장된 **row_list**를 전체 데이터 리스트인 **data_list**에 추가합니다.\\n\""
      ]
     },
     "execution_count": 34,
     "metadata": {},
     "output_type": "execute_result"
    }
   ],
   "execution_count": 34
  },
  {
   "metadata": {
    "ExecuteTime": {
     "end_time": "2024-09-25T13:34:00.289307Z",
     "start_time": "2024-09-25T13:34:00.284215Z"
    }
   },
   "cell_type": "code",
   "source": [
    "data_list = []\n",
    "for row in sheet['A2:C4']:\n",
    "    row_list = []\n",
    "    for val in row:\n",
    "        print(val.value)\n",
    "        row_list.append(val.value)\n",
    "        print(row_list)\n",
    "    data_list.append(row_list)\n",
    "    print(row_list)\n",
    "    print(data_list)\n",
    "print(data_list)\n",
    "print(row_list)"
   ],
   "id": "d54275599d21bad4",
   "outputs": [
    {
     "name": "stdout",
     "output_type": "stream",
     "text": [
      "John\n",
      "['John']\n",
      "25\n",
      "['John', 25]\n",
      "male\n",
      "['John', 25, 'male']\n",
      "['John', 25, 'male']\n",
      "[['John', 25, 'male']]\n",
      "Emily\n",
      "['Emily']\n",
      "30\n",
      "['Emily', 30]\n",
      "female\n",
      "['Emily', 30, 'female']\n",
      "['Emily', 30, 'female']\n",
      "[['John', 25, 'male'], ['Emily', 30, 'female']]\n",
      "Michael\n",
      "['Michael']\n",
      "35\n",
      "['Michael', 35]\n",
      "male\n",
      "['Michael', 35, 'male']\n",
      "['Michael', 35, 'male']\n",
      "[['John', 25, 'male'], ['Emily', 30, 'female'], ['Michael', 35, 'male']]\n",
      "[['John', 25, 'male'], ['Emily', 30, 'female'], ['Michael', 35, 'male']]\n",
      "['Michael', 35, 'male']\n"
     ]
    }
   ],
   "execution_count": 44
  },
  {
   "metadata": {
    "ExecuteTime": {
     "end_time": "2024-09-25T13:35:55.848815Z",
     "start_time": "2024-09-25T13:35:55.843804Z"
    }
   },
   "cell_type": "code",
   "source": [
    "data_list = []\n",
    "for row in sheet['A2:C4']:\n",
    "    row_list = []\n",
    "    for val in row:\n",
    "        row_list.append(val.value)\n",
    "    data_list.append(row_list)\n",
    "print(data_list)"
   ],
   "id": "f68382702c240046",
   "outputs": [
    {
     "name": "stdout",
     "output_type": "stream",
     "text": [
      "[['John', 25, 'male'], ['Emily', 30, 'female'], ['Michael', 35, 'male']]\n"
     ]
    }
   ],
   "execution_count": 47
  },
  {
   "metadata": {
    "ExecuteTime": {
     "end_time": "2024-09-25T13:36:49.370047Z",
     "start_time": "2024-09-25T13:36:49.347626Z"
    }
   },
   "cell_type": "code",
   "source": [
    "sheet.append(['David', 27, 'Male'])\n",
    "workbook.save('excel_data.xlsx')"
   ],
   "id": "365e6c7fc6921d8c",
   "outputs": [],
   "execution_count": 51
  },
  {
   "metadata": {
    "ExecuteTime": {
     "end_time": "2024-09-25T13:36:50.453923Z",
     "start_time": "2024-09-25T13:36:50.449623Z"
    }
   },
   "cell_type": "code",
   "source": "print(data_list)",
   "id": "aa79498b29115cf8",
   "outputs": [
    {
     "name": "stdout",
     "output_type": "stream",
     "text": [
      "[['John', 25, 'male'], ['Emily', 30, 'female'], ['Michael', 35, 'male']]\n"
     ]
    }
   ],
   "execution_count": 52
  },
  {
   "metadata": {
    "ExecuteTime": {
     "end_time": "2024-09-25T13:43:13.038414Z",
     "start_time": "2024-09-25T13:43:13.016484Z"
    }
   },
   "cell_type": "code",
   "source": [
    "row_data = ['Celine', 24, 'female']\n",
    "for col, data in enumerate(row_data, start=2):\n",
    "    sheet.cell(row=11, column=col).value = data\n",
    "workbook.save('excel_data.xlsx') #파일 열고있음 세이브 안됨"
   ],
   "id": "9d9213a435e5e7e8",
   "outputs": [],
   "execution_count": 58
  },
  {
   "metadata": {},
   "cell_type": "code",
   "outputs": [],
   "execution_count": null,
   "source": [
    "\"\"\"\n",
    "row_data = ['Celine', 24, 'female']:\n",
    "\n",
    "row_data는 엑셀 시트의 5번째 행에 추가할 데이터입니다. 여기서 'Celine', 24, 'female'은 각각 열에 대응하는 값입니다.\n",
    "for col, data in enumerate(row_data, start=1):\n",
    "\n",
    "enumerate(row_data, start=1)은 리스트 row_data의 각 요소에 대해 열 번호를 1부터 시작하여 인덱싱합니다.\n",
    "enumerate는 (인덱스, 값) 형태로 데이터를 반환하며, col은 열 번호(1, 2, 3), data는 각 열에 들어갈 데이터('Celine', 24, 'female')입니다.\n",
    "sheet.cell(row=5, column=col).value = data:\n",
    "\n",
    "sheet.cell(row=5, column=col)은 5번째 행의 각 열을 가리킵니다. 이 행의 각 열에 data 값을 할당합니다.\n",
    "예를 들어, column=1이면 5번째 행의 첫 번째 열(A5 셀)에 'Celine'이 들어가고, column=2이면 두 번째 열(B5 셀)에 24, column=3이면 세 번째 열(C5 셀)에 'female'이 들어갑니다.\n",
    "workbook.save('excel_data.xlsx'):\n",
    "\n",
    "엑셀 파일을 저장합니다. 이 작업을 하지 않으면 변경된 데이터가 파일에 반영되지 않습니다.\n",
    "\"\"\""
   ],
   "id": "a7f5d30de656fe44"
  }
 ],
 "metadata": {
  "kernelspec": {
   "display_name": "Python 3",
   "language": "python",
   "name": "python3"
  },
  "language_info": {
   "codemirror_mode": {
    "name": "ipython",
    "version": 2
   },
   "file_extension": ".py",
   "mimetype": "text/x-python",
   "name": "python",
   "nbconvert_exporter": "python",
   "pygments_lexer": "ipython2",
   "version": "2.7.6"
  }
 },
 "nbformat": 4,
 "nbformat_minor": 5
}
