{
 "cells": [
  {
   "cell_type": "code",
   "id": "initial_id",
   "metadata": {
    "collapsed": true,
    "ExecuteTime": {
     "end_time": "2024-09-21T09:39:23.944223Z",
     "start_time": "2024-09-21T09:39:23.938284Z"
    }
   },
   "source": "#클래스는 데이터와 해당 데이트를 처리하는 메서드를 포함하는 틀",
   "outputs": [],
   "execution_count": 1
  },
  {
   "metadata": {
    "ExecuteTime": {
     "end_time": "2024-09-22T05:36:40.834080Z",
     "start_time": "2024-09-22T05:36:40.829650Z"
    }
   },
   "cell_type": "code",
   "source": [
    "class Dog:\n",
    "    def __init__(self, name, age):\n",
    "        self.name = name\n",
    "        self.age = age\n",
    "    \n",
    "    def bark(self):\n",
    "        return \"Woof!\""
   ],
   "id": "52bf562a2dd6916",
   "outputs": [],
   "execution_count": 13
  },
  {
   "metadata": {
    "ExecuteTime": {
     "end_time": "2024-09-22T04:59:06.964233Z",
     "start_time": "2024-09-22T04:59:06.950676Z"
    }
   },
   "cell_type": "code",
   "source": [
    "\"\"\"\n",
    "__init__ 메서드는 객체가 생성될 때 자동으로 호출되는 생성자 함수입니다.\n",
    "이 메서드는 두 개의 매개변수 name(이름)과 age(나이)를 받습니다.\n",
    "self.name = name: 인자로 전달된 name을 객체의 name 속성에 저장합니다.\n",
    "self.age = age: 인자로 전달된 age를 객체의 age 속성에 저장합니다.\n",
    "\n",
    "이 메서드는 개가 짖는 소리 \"Woof!\"를 반환합니다.\n",
    "호출 시 **\"Woof!\"**를 반환하는 간단한 메서드입니다.\n",
    "\"\"\""
   ],
   "id": "66323d8021e7903b",
   "outputs": [
    {
     "data": {
      "text/plain": [
       "'\\n__init__ 메서드는 객체가 생성될 때 자동으로 호출되는 생성자 함수입니다.\\n이 메서드는 두 개의 매개변수 name(이름)과 age(나이)를 받습니다.\\nself.name = name: 인자로 전달된 name을 객체의 name 속성에 저장합니다.\\nself.age = age: 인자로 전달된 age를 객체의 age 속성에 저장합니다.\\n\\n이 메서드는 개가 짖는 소리 \"Woof!\"를 반환합니다.\\n호출 시 **\"Woof!\"**를 반환하는 간단한 메서드입니다.\\n'"
      ]
     },
     "execution_count": 3,
     "metadata": {},
     "output_type": "execute_result"
    }
   ],
   "execution_count": 3
  },
  {
   "metadata": {
    "ExecuteTime": {
     "end_time": "2024-09-22T05:36:46.126243Z",
     "start_time": "2024-09-22T05:36:46.121157Z"
    }
   },
   "cell_type": "code",
   "source": "my_dog = Dog(\"Buddy\", 3)",
   "id": "5935ce04dc2ded8f",
   "outputs": [],
   "execution_count": 15
  },
  {
   "metadata": {
    "ExecuteTime": {
     "end_time": "2024-09-22T05:36:47.003004Z",
     "start_time": "2024-09-22T05:36:46.996721Z"
    }
   },
   "cell_type": "code",
   "source": "my_dog.bark()",
   "id": "3374a9ccbdf806bf",
   "outputs": [
    {
     "data": {
      "text/plain": [
       "'Woof!'"
      ]
     },
     "execution_count": 16,
     "metadata": {},
     "output_type": "execute_result"
    }
   ],
   "execution_count": 16
  },
  {
   "metadata": {
    "ExecuteTime": {
     "end_time": "2024-09-22T05:36:47.845544Z",
     "start_time": "2024-09-22T05:36:47.839509Z"
    }
   },
   "cell_type": "code",
   "source": "my_dog.name",
   "id": "698f0aec6e4deea3",
   "outputs": [
    {
     "data": {
      "text/plain": [
       "'Buddy'"
      ]
     },
     "execution_count": 17,
     "metadata": {},
     "output_type": "execute_result"
    }
   ],
   "execution_count": 17
  },
  {
   "metadata": {
    "ExecuteTime": {
     "end_time": "2024-09-22T07:39:58.061769Z",
     "start_time": "2024-09-22T07:39:58.039213Z"
    }
   },
   "cell_type": "code",
   "source": "my_dog.age",
   "id": "ce36fb1b4d3e361",
   "outputs": [
    {
     "data": {
      "text/plain": [
       "3"
      ]
     },
     "execution_count": 18,
     "metadata": {},
     "output_type": "execute_result"
    }
   ],
   "execution_count": 18
  },
  {
   "metadata": {
    "ExecuteTime": {
     "end_time": "2024-09-22T07:48:40.920525Z",
     "start_time": "2024-09-22T07:48:40.915836Z"
    }
   },
   "cell_type": "code",
   "source": [
    "class Dog2:\n",
    "    species = 'Canis familiaris'\n",
    "    \n",
    "    def __init__(self, name, age):\n",
    "        self.name = name    #인스턴스 속성\n",
    "        self.age = age  #인스턴스 속성\n",
    "    \n",
    "    def bark(self):\n",
    "        return f\"{self.name} says Woof!\""
   ],
   "id": "67f85e2df11977b5",
   "outputs": [],
   "execution_count": 35
  },
  {
   "metadata": {
    "ExecuteTime": {
     "end_time": "2024-09-22T07:46:17.102315Z",
     "start_time": "2024-09-22T07:46:17.095818Z"
    }
   },
   "cell_type": "code",
   "source": [
    "\"\"\"\n",
    "Dog2\n",
    "*species\n",
    "*__init__\n",
    "*bark()\n",
    "\"\"\""
   ],
   "id": "3eebea2f629d1f77",
   "outputs": [
    {
     "data": {
      "text/plain": [
       "'\\nDog2\\n*species\\n*__init__\\n*bark()\\n'"
      ]
     },
     "execution_count": 27,
     "metadata": {},
     "output_type": "execute_result"
    }
   ],
   "execution_count": 27
  },
  {
   "metadata": {
    "ExecuteTime": {
     "end_time": "2024-09-22T07:48:42.702899Z",
     "start_time": "2024-09-22T07:48:42.697561Z"
    }
   },
   "cell_type": "code",
   "source": [
    "my_dog = Dog2(\"Buddy\", 3)\n",
    "your_dog = Dog2(\"kiki\", 4)"
   ],
   "id": "7ba50655cfd992e7",
   "outputs": [],
   "execution_count": 36
  },
  {
   "metadata": {
    "ExecuteTime": {
     "end_time": "2024-09-22T07:48:43.579938Z",
     "start_time": "2024-09-22T07:48:43.574876Z"
    }
   },
   "cell_type": "code",
   "source": "my_dog.species",
   "id": "e41c7dbfeed402ed",
   "outputs": [
    {
     "data": {
      "text/plain": [
       "'Canis familiaris'"
      ]
     },
     "execution_count": 37,
     "metadata": {},
     "output_type": "execute_result"
    }
   ],
   "execution_count": 37
  },
  {
   "metadata": {
    "ExecuteTime": {
     "end_time": "2024-09-22T07:52:49.813669Z",
     "start_time": "2024-09-22T07:52:49.809934Z"
    }
   },
   "cell_type": "code",
   "source": [
    "class Dog3:\n",
    "    def __init__(self, name, age):\n",
    "        self.name = name\n",
    "        self.age = age"
   ],
   "id": "89871caca68d3e0",
   "outputs": [],
   "execution_count": 39
  },
  {
   "metadata": {
    "ExecuteTime": {
     "end_time": "2024-09-22T07:53:26.093972Z",
     "start_time": "2024-09-22T07:53:26.089593Z"
    }
   },
   "cell_type": "code",
   "source": "my_dog = Dog3(\"Buddy\", 3)",
   "id": "1d6f8e164ac56cd6",
   "outputs": [],
   "execution_count": 40
  },
  {
   "metadata": {
    "ExecuteTime": {
     "end_time": "2024-09-22T07:53:37.637441Z",
     "start_time": "2024-09-22T07:53:37.632762Z"
    }
   },
   "cell_type": "code",
   "source": "print(my_dog.name)",
   "id": "7df861acbd90336b",
   "outputs": [
    {
     "name": "stdout",
     "output_type": "stream",
     "text": [
      "Buddy\n"
     ]
    }
   ],
   "execution_count": 41
  },
  {
   "metadata": {},
   "cell_type": "code",
   "outputs": [],
   "execution_count": null,
   "source": "",
   "id": "d3fb13550d4e15f8"
  }
 ],
 "metadata": {
  "kernelspec": {
   "display_name": "Python 3",
   "language": "python",
   "name": "python3"
  },
  "language_info": {
   "codemirror_mode": {
    "name": "ipython",
    "version": 2
   },
   "file_extension": ".py",
   "mimetype": "text/x-python",
   "name": "python",
   "nbconvert_exporter": "python",
   "pygments_lexer": "ipython2",
   "version": "2.7.6"
  }
 },
 "nbformat": 4,
 "nbformat_minor": 5
}
